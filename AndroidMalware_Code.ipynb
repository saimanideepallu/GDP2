{
  "nbformat": 4,
  "nbformat_minor": 0,
  "metadata": {
    "colab": {
      "name": "AndroidMalware_Code.ipynb",
      "provenance": [],
      "collapsed_sections": [],
      "machine_shape": "hm"
    },
    "kernelspec": {
      "display_name": "Python 3",
      "name": "python3"
    },
    "language_info": {
      "name": "python"
    }
  },
  "cells": [
    {
      "cell_type": "code",
      "metadata": {
        "colab": {
          "base_uri": "https://localhost:8080/",
          "height": 373
        },
        "id": "uIaWxOi9xKOQ",
        "outputId": "e128aea4-2f69-462a-f82b-e3b55888f3b6"
      },
      "source": [
        "# Load libraries\n",
        "import pandas as pd\n",
        "import numpy as np\n",
        "from sklearn.tree import DecisionTreeClassifier # Import Decision Tree Classifier\n",
        "from sklearn.model_selection import train_test_split # Import train_test_split function\n",
        "from sklearn import metrics #Import scikit-learn metrics module for accuracy calculation\n",
        "import matplotlib.pyplot as plt\n",
        "%matplotlib inline\n",
        "\n",
        "df = pd.read_csv(\"/content/Malware.csv\") # 30% subsample from original benign samples\n",
        "df = df.drop([df.columns[0]], axis=1)\n",
        "df.drop_duplicates(keep=False, inplace=True)\n",
        "df.head()"
      ],
      "execution_count": 350,
      "outputs": [
        {
          "output_type": "stream",
          "text": [
            "/usr/local/lib/python3.7/dist-packages/IPython/core/interactiveshell.py:2718: DtypeWarning: Columns (85) have mixed types.Specify dtype option on import or set low_memory=False.\n",
            "  interactivity=interactivity, compiler=compiler, result=result)\n"
          ],
          "name": "stderr"
        },
        {
          "output_type": "execute_result",
          "data": {
            "text/html": [
              "<div>\n",
              "<style scoped>\n",
              "    .dataframe tbody tr th:only-of-type {\n",
              "        vertical-align: middle;\n",
              "    }\n",
              "\n",
              "    .dataframe tbody tr th {\n",
              "        vertical-align: top;\n",
              "    }\n",
              "\n",
              "    .dataframe thead th {\n",
              "        text-align: right;\n",
              "    }\n",
              "</style>\n",
              "<table border=\"1\" class=\"dataframe\">\n",
              "  <thead>\n",
              "    <tr style=\"text-align: right;\">\n",
              "      <th></th>\n",
              "      <th>Source.IP</th>\n",
              "      <th>Source.Port</th>\n",
              "      <th>Destination.IP</th>\n",
              "      <th>Destination.Port</th>\n",
              "      <th>Protocol</th>\n",
              "      <th>Timestamp</th>\n",
              "      <th>Flow.Duration</th>\n",
              "      <th>Total.Fwd.Packets</th>\n",
              "      <th>Total.Backward.Packets</th>\n",
              "      <th>Total.Length.of.Fwd.Packets</th>\n",
              "      <th>Total.Length.of.Bwd.Packets</th>\n",
              "      <th>Fwd.Packet.Length.Max</th>\n",
              "      <th>Fwd.Packet.Length.Min</th>\n",
              "      <th>Fwd.Packet.Length.Mean</th>\n",
              "      <th>Fwd.Packet.Length.Std</th>\n",
              "      <th>Bwd.Packet.Length.Max</th>\n",
              "      <th>Bwd.Packet.Length.Min</th>\n",
              "      <th>Bwd.Packet.Length.Mean</th>\n",
              "      <th>Bwd.Packet.Length.Std</th>\n",
              "      <th>Flow.Bytes.s</th>\n",
              "      <th>Flow.Packets.s</th>\n",
              "      <th>Flow.IAT.Mean</th>\n",
              "      <th>Flow.IAT.Std</th>\n",
              "      <th>Flow.IAT.Max</th>\n",
              "      <th>Flow.IAT.Min</th>\n",
              "      <th>Fwd.IAT.Total</th>\n",
              "      <th>Fwd.IAT.Mean</th>\n",
              "      <th>Fwd.IAT.Std</th>\n",
              "      <th>Fwd.IAT.Max</th>\n",
              "      <th>Fwd.IAT.Min</th>\n",
              "      <th>Bwd.IAT.Total</th>\n",
              "      <th>Bwd.IAT.Mean</th>\n",
              "      <th>Bwd.IAT.Std</th>\n",
              "      <th>Bwd.IAT.Max</th>\n",
              "      <th>Bwd.IAT.Min</th>\n",
              "      <th>Fwd.PSH.Flags</th>\n",
              "      <th>Bwd.PSH.Flags</th>\n",
              "      <th>Fwd.URG.Flags</th>\n",
              "      <th>Bwd.URG.Flags</th>\n",
              "      <th>Fwd.Header.Length</th>\n",
              "      <th>...</th>\n",
              "      <th>Packet.Length.Mean</th>\n",
              "      <th>Packet.Length.Std</th>\n",
              "      <th>Packet.Length.Variance</th>\n",
              "      <th>FIN.Flag.Count</th>\n",
              "      <th>SYN.Flag.Count</th>\n",
              "      <th>RST.Flag.Count</th>\n",
              "      <th>PSH.Flag.Count</th>\n",
              "      <th>ACK.Flag.Count</th>\n",
              "      <th>URG.Flag.Count</th>\n",
              "      <th>CWE.Flag.Count</th>\n",
              "      <th>ECE.Flag.Count</th>\n",
              "      <th>Down.Up.Ratio</th>\n",
              "      <th>Average.Packet.Size</th>\n",
              "      <th>Avg.Fwd.Segment.Size</th>\n",
              "      <th>Avg.Bwd.Segment.Size</th>\n",
              "      <th>Fwd.Header.Length.1</th>\n",
              "      <th>Fwd.Avg.Bytes.Bulk</th>\n",
              "      <th>Fwd.Avg.Packets.Bulk</th>\n",
              "      <th>Fwd.Avg.Bulk.Rate</th>\n",
              "      <th>Bwd.Avg.Bytes.Bulk</th>\n",
              "      <th>Bwd.Avg.Packets.Bulk</th>\n",
              "      <th>Bwd.Avg.Bulk.Rate</th>\n",
              "      <th>Subflow.Fwd.Packets</th>\n",
              "      <th>Subflow.Fwd.Bytes</th>\n",
              "      <th>Subflow.Bwd.Packets</th>\n",
              "      <th>Subflow.Bwd.Bytes</th>\n",
              "      <th>Init_Win_bytes_forward</th>\n",
              "      <th>Init_Win_bytes_backward</th>\n",
              "      <th>act_data_pkt_fwd</th>\n",
              "      <th>min_seg_size_forward</th>\n",
              "      <th>Active.Mean</th>\n",
              "      <th>Active.Std</th>\n",
              "      <th>Active.Max</th>\n",
              "      <th>Active.Min</th>\n",
              "      <th>Idle.Mean</th>\n",
              "      <th>Idle.Std</th>\n",
              "      <th>Idle.Max</th>\n",
              "      <th>Idle.Min</th>\n",
              "      <th>Label</th>\n",
              "      <th>Family</th>\n",
              "    </tr>\n",
              "  </thead>\n",
              "  <tbody>\n",
              "    <tr>\n",
              "      <th>0</th>\n",
              "      <td>10.42.0.151</td>\n",
              "      <td>49952.0</td>\n",
              "      <td>114.134.80.163</td>\n",
              "      <td>443.0</td>\n",
              "      <td>6.0</td>\n",
              "      <td>16/06/2017 05:19:13</td>\n",
              "      <td>26299460.0</td>\n",
              "      <td>7.0</td>\n",
              "      <td>8.0</td>\n",
              "      <td>1063.0</td>\n",
              "      <td>752.0</td>\n",
              "      <td>517.0</td>\n",
              "      <td>0.0</td>\n",
              "      <td>151.857143</td>\n",
              "      <td>242.724417</td>\n",
              "      <td>569.0</td>\n",
              "      <td>0.0</td>\n",
              "      <td>94.000000</td>\n",
              "      <td>198.975232</td>\n",
              "      <td>6.901282e+01</td>\n",
              "      <td>0.570354</td>\n",
              "      <td>1.878533e+06</td>\n",
              "      <td>6.638032e+06</td>\n",
              "      <td>24900000.0</td>\n",
              "      <td>34.0</td>\n",
              "      <td>1360363.0</td>\n",
              "      <td>226727.1667</td>\n",
              "      <td>1.825802e+05</td>\n",
              "      <td>397948.0</td>\n",
              "      <td>485.0</td>\n",
              "      <td>26100000.0</td>\n",
              "      <td>3721572.857</td>\n",
              "      <td>9.384283e+06</td>\n",
              "      <td>25000000.0</td>\n",
              "      <td>34.0</td>\n",
              "      <td>0.0</td>\n",
              "      <td>0.0</td>\n",
              "      <td>0.0</td>\n",
              "      <td>0.0</td>\n",
              "      <td>160.0</td>\n",
              "      <td>...</td>\n",
              "      <td>113.437500</td>\n",
              "      <td>209.260912</td>\n",
              "      <td>43790.12917</td>\n",
              "      <td>0.0</td>\n",
              "      <td>0.0</td>\n",
              "      <td>0.0</td>\n",
              "      <td>1.0</td>\n",
              "      <td>0.0</td>\n",
              "      <td>0.0</td>\n",
              "      <td>0.0</td>\n",
              "      <td>0.0</td>\n",
              "      <td>1.0</td>\n",
              "      <td>121.000000</td>\n",
              "      <td>151.857143</td>\n",
              "      <td>94.000000</td>\n",
              "      <td>160.0</td>\n",
              "      <td>0.0</td>\n",
              "      <td>0.0</td>\n",
              "      <td>0.0</td>\n",
              "      <td>0.0</td>\n",
              "      <td>0.0</td>\n",
              "      <td>0.0</td>\n",
              "      <td>7.0</td>\n",
              "      <td>1063.0</td>\n",
              "      <td>8.0</td>\n",
              "      <td>752.0</td>\n",
              "      <td>65535.0</td>\n",
              "      <td>131.0</td>\n",
              "      <td>3.0</td>\n",
              "      <td>20.0</td>\n",
              "      <td>1360363.0</td>\n",
              "      <td>0.0</td>\n",
              "      <td>1360363.0</td>\n",
              "      <td>1360363.0</td>\n",
              "      <td>24900000.0</td>\n",
              "      <td>0.0</td>\n",
              "      <td>24900000.0</td>\n",
              "      <td>24900000.0</td>\n",
              "      <td>ADWARE</td>\n",
              "      <td>FEIWO</td>\n",
              "    </tr>\n",
              "    <tr>\n",
              "      <th>1</th>\n",
              "      <td>0.0.0.0</td>\n",
              "      <td>68.0</td>\n",
              "      <td>255.255.255.255</td>\n",
              "      <td>67.0</td>\n",
              "      <td>17.0</td>\n",
              "      <td>15/06/2017 10:08:23</td>\n",
              "      <td>85.0</td>\n",
              "      <td>2.0</td>\n",
              "      <td>0.0</td>\n",
              "      <td>630.0</td>\n",
              "      <td>0.0</td>\n",
              "      <td>315.0</td>\n",
              "      <td>315.0</td>\n",
              "      <td>315.000000</td>\n",
              "      <td>0.000000</td>\n",
              "      <td>0.0</td>\n",
              "      <td>0.0</td>\n",
              "      <td>0.000000</td>\n",
              "      <td>0.000000</td>\n",
              "      <td>7.411765e+06</td>\n",
              "      <td>23529.411760</td>\n",
              "      <td>8.500000e+01</td>\n",
              "      <td>0.000000e+00</td>\n",
              "      <td>85.0</td>\n",
              "      <td>85.0</td>\n",
              "      <td>85.0</td>\n",
              "      <td>85.0000</td>\n",
              "      <td>0.000000e+00</td>\n",
              "      <td>85.0</td>\n",
              "      <td>85.0</td>\n",
              "      <td>0.0</td>\n",
              "      <td>0.000</td>\n",
              "      <td>0.000000e+00</td>\n",
              "      <td>0.0</td>\n",
              "      <td>0.0</td>\n",
              "      <td>0.0</td>\n",
              "      <td>0.0</td>\n",
              "      <td>0.0</td>\n",
              "      <td>0.0</td>\n",
              "      <td>64.0</td>\n",
              "      <td>...</td>\n",
              "      <td>315.000000</td>\n",
              "      <td>0.000000</td>\n",
              "      <td>0.00000</td>\n",
              "      <td>0.0</td>\n",
              "      <td>0.0</td>\n",
              "      <td>0.0</td>\n",
              "      <td>0.0</td>\n",
              "      <td>0.0</td>\n",
              "      <td>0.0</td>\n",
              "      <td>0.0</td>\n",
              "      <td>0.0</td>\n",
              "      <td>0.0</td>\n",
              "      <td>472.500000</td>\n",
              "      <td>315.000000</td>\n",
              "      <td>0.000000</td>\n",
              "      <td>64.0</td>\n",
              "      <td>0.0</td>\n",
              "      <td>0.0</td>\n",
              "      <td>0.0</td>\n",
              "      <td>0.0</td>\n",
              "      <td>0.0</td>\n",
              "      <td>0.0</td>\n",
              "      <td>2.0</td>\n",
              "      <td>630.0</td>\n",
              "      <td>0.0</td>\n",
              "      <td>0.0</td>\n",
              "      <td>-1.0</td>\n",
              "      <td>-1.0</td>\n",
              "      <td>1.0</td>\n",
              "      <td>32.0</td>\n",
              "      <td>0.0</td>\n",
              "      <td>0.0</td>\n",
              "      <td>0.0</td>\n",
              "      <td>0.0</td>\n",
              "      <td>0.0</td>\n",
              "      <td>0.0</td>\n",
              "      <td>0.0</td>\n",
              "      <td>0.0</td>\n",
              "      <td>ADWARE</td>\n",
              "      <td>FEIWO</td>\n",
              "    </tr>\n",
              "    <tr>\n",
              "      <th>2</th>\n",
              "      <td>10.42.0.151</td>\n",
              "      <td>51550.0</td>\n",
              "      <td>172.217.1.163</td>\n",
              "      <td>80.0</td>\n",
              "      <td>6.0</td>\n",
              "      <td>16/06/2017 12:03:37</td>\n",
              "      <td>1928648.0</td>\n",
              "      <td>3.0</td>\n",
              "      <td>0.0</td>\n",
              "      <td>0.0</td>\n",
              "      <td>0.0</td>\n",
              "      <td>0.0</td>\n",
              "      <td>0.0</td>\n",
              "      <td>0.000000</td>\n",
              "      <td>0.000000</td>\n",
              "      <td>0.0</td>\n",
              "      <td>0.0</td>\n",
              "      <td>0.000000</td>\n",
              "      <td>0.000000</td>\n",
              "      <td>0.000000e+00</td>\n",
              "      <td>1.555494</td>\n",
              "      <td>9.643240e+05</td>\n",
              "      <td>1.239854e+06</td>\n",
              "      <td>1841033.0</td>\n",
              "      <td>87615.0</td>\n",
              "      <td>1928648.0</td>\n",
              "      <td>964324.0000</td>\n",
              "      <td>1.239854e+06</td>\n",
              "      <td>1841033.0</td>\n",
              "      <td>87615.0</td>\n",
              "      <td>0.0</td>\n",
              "      <td>0.000</td>\n",
              "      <td>0.000000e+00</td>\n",
              "      <td>0.0</td>\n",
              "      <td>0.0</td>\n",
              "      <td>0.0</td>\n",
              "      <td>0.0</td>\n",
              "      <td>0.0</td>\n",
              "      <td>0.0</td>\n",
              "      <td>96.0</td>\n",
              "      <td>...</td>\n",
              "      <td>0.000000</td>\n",
              "      <td>0.000000</td>\n",
              "      <td>0.00000</td>\n",
              "      <td>0.0</td>\n",
              "      <td>0.0</td>\n",
              "      <td>0.0</td>\n",
              "      <td>0.0</td>\n",
              "      <td>1.0</td>\n",
              "      <td>1.0</td>\n",
              "      <td>0.0</td>\n",
              "      <td>0.0</td>\n",
              "      <td>0.0</td>\n",
              "      <td>0.000000</td>\n",
              "      <td>0.000000</td>\n",
              "      <td>0.000000</td>\n",
              "      <td>96.0</td>\n",
              "      <td>0.0</td>\n",
              "      <td>0.0</td>\n",
              "      <td>0.0</td>\n",
              "      <td>0.0</td>\n",
              "      <td>0.0</td>\n",
              "      <td>0.0</td>\n",
              "      <td>3.0</td>\n",
              "      <td>0.0</td>\n",
              "      <td>0.0</td>\n",
              "      <td>0.0</td>\n",
              "      <td>340.0</td>\n",
              "      <td>-1.0</td>\n",
              "      <td>0.0</td>\n",
              "      <td>32.0</td>\n",
              "      <td>0.0</td>\n",
              "      <td>0.0</td>\n",
              "      <td>0.0</td>\n",
              "      <td>0.0</td>\n",
              "      <td>0.0</td>\n",
              "      <td>0.0</td>\n",
              "      <td>0.0</td>\n",
              "      <td>0.0</td>\n",
              "      <td>ADWARE</td>\n",
              "      <td>FEIWO</td>\n",
              "    </tr>\n",
              "    <tr>\n",
              "      <th>3</th>\n",
              "      <td>10.42.0.151</td>\n",
              "      <td>58354.0</td>\n",
              "      <td>172.217.12.142</td>\n",
              "      <td>443.0</td>\n",
              "      <td>6.0</td>\n",
              "      <td>15/06/2017 07:32:25</td>\n",
              "      <td>467419.0</td>\n",
              "      <td>9.0</td>\n",
              "      <td>9.0</td>\n",
              "      <td>1146.0</td>\n",
              "      <td>6010.0</td>\n",
              "      <td>787.0</td>\n",
              "      <td>0.0</td>\n",
              "      <td>127.333333</td>\n",
              "      <td>260.674606</td>\n",
              "      <td>1418.0</td>\n",
              "      <td>0.0</td>\n",
              "      <td>667.777778</td>\n",
              "      <td>700.097454</td>\n",
              "      <td>1.530960e+04</td>\n",
              "      <td>38.509346</td>\n",
              "      <td>2.749524e+04</td>\n",
              "      <td>3.230975e+04</td>\n",
              "      <td>97444.0</td>\n",
              "      <td>11.0</td>\n",
              "      <td>409914.0</td>\n",
              "      <td>51239.2500</td>\n",
              "      <td>5.318583e+04</td>\n",
              "      <td>106514.0</td>\n",
              "      <td>264.0</td>\n",
              "      <td>430478.0</td>\n",
              "      <td>53809.750</td>\n",
              "      <td>7.827317e+04</td>\n",
              "      <td>196242.0</td>\n",
              "      <td>11.0</td>\n",
              "      <td>0.0</td>\n",
              "      <td>0.0</td>\n",
              "      <td>0.0</td>\n",
              "      <td>0.0</td>\n",
              "      <td>296.0</td>\n",
              "      <td>...</td>\n",
              "      <td>376.631579</td>\n",
              "      <td>573.914164</td>\n",
              "      <td>329377.46780</td>\n",
              "      <td>0.0</td>\n",
              "      <td>0.0</td>\n",
              "      <td>0.0</td>\n",
              "      <td>1.0</td>\n",
              "      <td>0.0</td>\n",
              "      <td>0.0</td>\n",
              "      <td>0.0</td>\n",
              "      <td>0.0</td>\n",
              "      <td>1.0</td>\n",
              "      <td>397.555556</td>\n",
              "      <td>127.333333</td>\n",
              "      <td>667.777778</td>\n",
              "      <td>296.0</td>\n",
              "      <td>0.0</td>\n",
              "      <td>0.0</td>\n",
              "      <td>0.0</td>\n",
              "      <td>0.0</td>\n",
              "      <td>0.0</td>\n",
              "      <td>0.0</td>\n",
              "      <td>9.0</td>\n",
              "      <td>1146.0</td>\n",
              "      <td>9.0</td>\n",
              "      <td>6010.0</td>\n",
              "      <td>65535.0</td>\n",
              "      <td>352.0</td>\n",
              "      <td>3.0</td>\n",
              "      <td>32.0</td>\n",
              "      <td>0.0</td>\n",
              "      <td>0.0</td>\n",
              "      <td>0.0</td>\n",
              "      <td>0.0</td>\n",
              "      <td>0.0</td>\n",
              "      <td>0.0</td>\n",
              "      <td>0.0</td>\n",
              "      <td>0.0</td>\n",
              "      <td>ADWARE</td>\n",
              "      <td>FEIWO</td>\n",
              "    </tr>\n",
              "    <tr>\n",
              "      <th>4</th>\n",
              "      <td>91.190.218.57</td>\n",
              "      <td>12350.0</td>\n",
              "      <td>10.42.0.151</td>\n",
              "      <td>49663.0</td>\n",
              "      <td>6.0</td>\n",
              "      <td>15/06/2017 10:09:18</td>\n",
              "      <td>45653.0</td>\n",
              "      <td>1.0</td>\n",
              "      <td>1.0</td>\n",
              "      <td>0.0</td>\n",
              "      <td>0.0</td>\n",
              "      <td>0.0</td>\n",
              "      <td>0.0</td>\n",
              "      <td>0.000000</td>\n",
              "      <td>0.000000</td>\n",
              "      <td>0.0</td>\n",
              "      <td>0.0</td>\n",
              "      <td>0.000000</td>\n",
              "      <td>0.000000</td>\n",
              "      <td>0.000000e+00</td>\n",
              "      <td>43.808731</td>\n",
              "      <td>4.565300e+04</td>\n",
              "      <td>0.000000e+00</td>\n",
              "      <td>45653.0</td>\n",
              "      <td>45653.0</td>\n",
              "      <td>0.0</td>\n",
              "      <td>0.0000</td>\n",
              "      <td>0.000000e+00</td>\n",
              "      <td>0.0</td>\n",
              "      <td>0.0</td>\n",
              "      <td>0.0</td>\n",
              "      <td>0.000</td>\n",
              "      <td>0.000000e+00</td>\n",
              "      <td>0.0</td>\n",
              "      <td>0.0</td>\n",
              "      <td>0.0</td>\n",
              "      <td>0.0</td>\n",
              "      <td>0.0</td>\n",
              "      <td>0.0</td>\n",
              "      <td>32.0</td>\n",
              "      <td>...</td>\n",
              "      <td>0.000000</td>\n",
              "      <td>0.000000</td>\n",
              "      <td>0.00000</td>\n",
              "      <td>0.0</td>\n",
              "      <td>0.0</td>\n",
              "      <td>0.0</td>\n",
              "      <td>0.0</td>\n",
              "      <td>1.0</td>\n",
              "      <td>1.0</td>\n",
              "      <td>0.0</td>\n",
              "      <td>0.0</td>\n",
              "      <td>1.0</td>\n",
              "      <td>0.000000</td>\n",
              "      <td>0.000000</td>\n",
              "      <td>0.000000</td>\n",
              "      <td>32.0</td>\n",
              "      <td>0.0</td>\n",
              "      <td>0.0</td>\n",
              "      <td>0.0</td>\n",
              "      <td>0.0</td>\n",
              "      <td>0.0</td>\n",
              "      <td>0.0</td>\n",
              "      <td>1.0</td>\n",
              "      <td>0.0</td>\n",
              "      <td>1.0</td>\n",
              "      <td>0.0</td>\n",
              "      <td>9.0</td>\n",
              "      <td>1386.0</td>\n",
              "      <td>0.0</td>\n",
              "      <td>32.0</td>\n",
              "      <td>0.0</td>\n",
              "      <td>0.0</td>\n",
              "      <td>0.0</td>\n",
              "      <td>0.0</td>\n",
              "      <td>0.0</td>\n",
              "      <td>0.0</td>\n",
              "      <td>0.0</td>\n",
              "      <td>0.0</td>\n",
              "      <td>ADWARE</td>\n",
              "      <td>FEIWO</td>\n",
              "    </tr>\n",
              "  </tbody>\n",
              "</table>\n",
              "<p>5 rows × 85 columns</p>\n",
              "</div>"
            ],
            "text/plain": [
              "       Source.IP  Source.Port   Destination.IP  ...    Idle.Min   Label Family\n",
              "0    10.42.0.151      49952.0   114.134.80.163  ...  24900000.0  ADWARE  FEIWO\n",
              "1        0.0.0.0         68.0  255.255.255.255  ...         0.0  ADWARE  FEIWO\n",
              "2    10.42.0.151      51550.0    172.217.1.163  ...         0.0  ADWARE  FEIWO\n",
              "3    10.42.0.151      58354.0   172.217.12.142  ...         0.0  ADWARE  FEIWO\n",
              "4  91.190.218.57      12350.0      10.42.0.151  ...         0.0  ADWARE  FEIWO\n",
              "\n",
              "[5 rows x 85 columns]"
            ]
          },
          "metadata": {
            "tags": []
          },
          "execution_count": 350
        }
      ]
    },
    {
      "cell_type": "code",
      "metadata": {
        "colab": {
          "base_uri": "https://localhost:8080/"
        },
        "id": "Roe9zY11xOXh",
        "outputId": "8e9f0ef2-5ac9-4408-d7b7-1cca5fc9aa0e"
      },
      "source": [
        "df['Label'].value_counts()"
      ],
      "execution_count": 351,
      "outputs": [
        {
          "output_type": "execute_result",
          "data": {
            "text/plain": [
              "SCAREWARE     33000\n",
              "SMSMALWARE    31767\n",
              "BENIGN        30447\n",
              "RANSOMWARE    30000\n",
              "ADWARE        29956\n",
              "Name: Label, dtype: int64"
            ]
          },
          "metadata": {
            "tags": []
          },
          "execution_count": 351
        }
      ]
    },
    {
      "cell_type": "code",
      "metadata": {
        "colab": {
          "base_uri": "https://localhost:8080/"
        },
        "id": "M3qAosccxTDT",
        "outputId": "03b3571f-3a38-4351-8b1a-976d78dba5b6"
      },
      "source": [
        "len(df['Label'].value_counts())"
      ],
      "execution_count": 352,
      "outputs": [
        {
          "output_type": "execute_result",
          "data": {
            "text/plain": [
              "5"
            ]
          },
          "metadata": {
            "tags": []
          },
          "execution_count": 352
        }
      ]
    },
    {
      "cell_type": "code",
      "metadata": {
        "colab": {
          "base_uri": "https://localhost:8080/"
        },
        "id": "YQ9ZAj9oxWnZ",
        "outputId": "ca6dffe6-5987-474a-8862-69aa4e7ac2da"
      },
      "source": [
        "df.isnull().sum()"
      ],
      "execution_count": 353,
      "outputs": [
        {
          "output_type": "execute_result",
          "data": {
            "text/plain": [
              "Source.IP               0\n",
              "Source.Port             0\n",
              "Destination.IP          0\n",
              "Destination.Port        0\n",
              "Protocol                0\n",
              "                    ...  \n",
              "Idle.Std                0\n",
              "Idle.Max                0\n",
              "Idle.Min                0\n",
              "Label                   0\n",
              "Family              30447\n",
              "Length: 85, dtype: int64"
            ]
          },
          "metadata": {
            "tags": []
          },
          "execution_count": 353
        }
      ]
    },
    {
      "cell_type": "code",
      "metadata": {
        "id": "tDEw0zrn2ikP"
      },
      "source": [
        "df.dropna(subset=['Label'], inplace=True)"
      ],
      "execution_count": 354,
      "outputs": []
    },
    {
      "cell_type": "code",
      "metadata": {
        "colab": {
          "base_uri": "https://localhost:8080/"
        },
        "id": "VzGvtKo0xZzo",
        "outputId": "fb64ff23-e6e3-483c-8701-05d244f49a1b"
      },
      "source": [
        "df.Label.unique()"
      ],
      "execution_count": 355,
      "outputs": [
        {
          "output_type": "execute_result",
          "data": {
            "text/plain": [
              "array(['ADWARE', 'RANSOMWARE', 'SCAREWARE', 'SMSMALWARE', 'BENIGN'],\n",
              "      dtype=object)"
            ]
          },
          "metadata": {
            "tags": []
          },
          "execution_count": 355
        }
      ]
    },
    {
      "cell_type": "code",
      "metadata": {
        "id": "MROUUGzV9HeH"
      },
      "source": [
        "df1 = df.replace(to_replace =\"ADWARE\", \n",
        "                 value =1.0) \n",
        "df2 = df1.replace(to_replace =\"RANSOMWARE\", \n",
        "                 value =2.0)\n",
        "df3 = df2.replace(to_replace =\"SCAREWARE\", \n",
        "                 value =3.0)\n",
        "df4 = df3.replace(to_replace =\"SMSMALWARE\", \n",
        "                 value =4.0)\n",
        "df5 = df4.replace(to_replace =\"BENIGN\", \n",
        "                 value =0.0)"
      ],
      "execution_count": 356,
      "outputs": []
    },
    {
      "cell_type": "code",
      "metadata": {
        "id": "-xFfrOFJxgDT"
      },
      "source": [
        "df5[\"Source.IP\"] = df5[\"Source.IP\"].str.replace(r'\\D', '')\n",
        "df5[\"Destination.IP\"] = df5[\"Destination.IP\"].str.replace(r'\\D', '')\n",
        "df5[\"Timestamp\"] = df5[\"Timestamp\"].str.replace(r'\\D', '')\n",
        "df6 =  df5.replace([np.inf, -np.inf], np.nan)\n",
        "df7 = df6.fillna(0)\n",
        "f_df = df7"
      ],
      "execution_count": 357,
      "outputs": []
    },
    {
      "cell_type": "code",
      "metadata": {
        "colab": {
          "base_uri": "https://localhost:8080/"
        },
        "id": "fnHdpLh7KPIf",
        "outputId": "3845263f-fabc-49e3-db80-c30cc39c318b"
      },
      "source": [
        "df.Family.unique()"
      ],
      "execution_count": 358,
      "outputs": [
        {
          "output_type": "execute_result",
          "data": {
            "text/plain": [
              "array(['FEIWO', 'KEMOGE', 'MOBIDASH', 'EWIND', 'KOODOUS', 'DOWGIN',\n",
              "       'SELFMITE', 'SHUANET', 'GOOLIGAN', 'YOUMI', 'JISUT', 'WANNALOCKER',\n",
              "       'KOLER', 'LOCKERPIN', 'SIMPLOCKER', 'SVPENG', 'CHARGER',\n",
              "       'RANSOMBO', 'PLETOR', 'PORNDROID', 'ANDROIDSPY', 'AVFORANDROID',\n",
              "       'AVPASS', 'ANDROIDDEFENDER', 'FAKEAPPAL', 'FAKEAPP', 'FAKEAV',\n",
              "       'FAKEJOBOFFER', 'FAKETAOBAO', 'VIRUSSHIELD', 'PENETHO', 'BIIGE',\n",
              "       'FAKENOTIFY', 'PLANKTON', 'SMSSNIFFER', 'FAKEINST', 'NANDROBOX',\n",
              "       'JIFAKE', 'MAZARBOT', 'ZSONE', 'BEANBOT', 'FAKEMART', nan],\n",
              "      dtype=object)"
            ]
          },
          "metadata": {
            "tags": []
          },
          "execution_count": 358
        }
      ]
    },
    {
      "cell_type": "code",
      "metadata": {
        "id": "yp2lutp9KR5T"
      },
      "source": [
        "f_df1 = f_df.replace(to_replace =\"FEIWO\", \n",
        "                 value =1.0) \n",
        "f_df2 = f_df1.replace(to_replace =\"KEMOGE\", \n",
        "                 value =2.0)\n",
        "f_df3 = f_df2.replace(to_replace =\"MOBIDASH\", \n",
        "                 value =3.0)\n",
        "f_df4 = f_df3.replace(to_replace =\"EWIND\", \n",
        "                 value =4.0)\n",
        "f_df5 = f_df4.replace(to_replace =\"KOODOUS\", \n",
        "                 value =5.0)\n",
        "f_df6 = f_df5.replace(to_replace =\"DOWGIN\", \n",
        "                 value =6.0)\n",
        "f_df7 = f_df6.replace(to_replace =\"SELFMITE\", \n",
        "                 value =7.0)\n",
        "f_df8 = f_df7.replace(to_replace =\"SHUANET\", \n",
        "                 value =8.0)\n",
        "f_df9 = f_df8.replace(to_replace =\"GOOLIGAN\", \n",
        "                 value =9.0)\n",
        "f_df10 = f_df9.replace(to_replace =\"YOUMI\", \n",
        "                 value =10.0)\n",
        "f_df11 = f_df10.replace(to_replace =\"JISUT\", \n",
        "                 value =11.0)\n",
        "f_df12 = f_df11.replace(to_replace =\"WANNALOCKER\", \n",
        "                 value =12.0) \n",
        "f_df13 = f_df12.replace(to_replace =\"KOLER\", \n",
        "                 value =13.0)\n",
        "f_df14 = f_df13.replace(to_replace =\"LOCKERPIN\", \n",
        "                 value =14.0)\n",
        "f_df15 = f_df14.replace(to_replace =\"SIMPLOCKER\", \n",
        "                 value =15.0)\n",
        "f_df16 = f_df15.replace(to_replace =\"SVPENG\", \n",
        "                 value =16.0)\n",
        "f_df17 = f_df16.replace(to_replace =\"CHARGER\", \n",
        "                 value =17.0)\n",
        "f_df18 = f_df17.replace(to_replace =\"RANSOMBO\", \n",
        "                 value =18.0)\n",
        "f_df19 = f_df18.replace(to_replace =\"PLETOR\", \n",
        "                 value =19.0)\n",
        "f_df20 = f_df19.replace(to_replace =\"PORNDROID\", \n",
        "                 value =20.0)\n",
        "f_df21 = f_df20.replace(to_replace =\"ANDROIDSPY\", \n",
        "                 value =21.0)\n",
        "f_df22 = f_df21.replace(to_replace =\"AVFORANDROID\", \n",
        "                 value =22.0)\n",
        "f_df23 = f_df22.replace(to_replace =\"AVPASS\", \n",
        "                 value =23.0) \n",
        "f_df24 = f_df23.replace(to_replace =\"ANDROIDDEFENDER\", \n",
        "                 value =24.0)\n",
        "f_df25 = f_df24.replace(to_replace =\"FAKEAPPAL\", \n",
        "                 value =25.0)\n",
        "f_df26 = f_df25.replace(to_replace =\"FAKEAPP\", \n",
        "                 value =26.0)\n",
        "f_df27 = f_df26.replace(to_replace =\"FAKEAV\", \n",
        "                 value =27.0)\n",
        "f_df28 = f_df27.replace(to_replace =\"FAKEJOBOFFER\", \n",
        "                 value =28.0)\n",
        "f_df29 = f_df28.replace(to_replace =\"FAKETAOBAO\", \n",
        "                 value =29.0)\n",
        "f_df30 = f_df29.replace(to_replace =\"VIRUSSHIELD\", \n",
        "                 value =30.0)\n",
        "f_df31 = f_df30.replace(to_replace =\"PENETHO\", \n",
        "                 value =31.0)\n",
        "f_df32 = f_df31.replace(to_replace =\"BIIGE\", \n",
        "                 value =32.0)\n",
        "f_df33 = f_df32.replace(to_replace =\"FAKENOTIFY\", \n",
        "                 value =33.0)\n",
        "f_df34 = f_df33.replace(to_replace =\"PLANKTON\", \n",
        "                 value =34.0) \n",
        "f_df35 = f_df34.replace(to_replace =\"SMSSNIFFER\", \n",
        "                 value =35.0)\n",
        "f_df36 = f_df35.replace(to_replace =\"FAKEINST\", \n",
        "                 value =36.0)\n",
        "f_df37 = f_df36.replace(to_replace =\"NANDROBOX\", \n",
        "                 value =37.0)\n",
        "f_df38 = f_df37.replace(to_replace =\"JIFAKE\", \n",
        "                 value =38.0)\n",
        "f_df39 = f_df38.replace(to_replace =\"MAZARBOT\", \n",
        "                 value =39.0)\n",
        "f_df40 = f_df39.replace(to_replace =\"ZSONE\", \n",
        "                 value =40.0)\n",
        "f_df41 = f_df40.replace(to_replace =\"BEANBOT\", \n",
        "                 value =41.0)\n",
        "f_df42 = f_df41.replace(to_replace =\"FAKEMART\", \n",
        "                 value =42.0)\n",
        "f_df43 = f_df42.fillna(0.0)\n",
        "real_df = f_df43.astype(float)"
      ],
      "execution_count": 359,
      "outputs": []
    },
    {
      "cell_type": "code",
      "metadata": {
        "colab": {
          "base_uri": "https://localhost:8080/"
        },
        "id": "mrwnzbIpyMoD",
        "outputId": "b03adea1-6fc0-48d6-9062-1113a3d5a212"
      },
      "source": [
        "real_df.isnull().sum()"
      ],
      "execution_count": 360,
      "outputs": [
        {
          "output_type": "execute_result",
          "data": {
            "text/plain": [
              "Source.IP           0\n",
              "Source.Port         0\n",
              "Destination.IP      0\n",
              "Destination.Port    0\n",
              "Protocol            0\n",
              "                   ..\n",
              "Idle.Std            0\n",
              "Idle.Max            0\n",
              "Idle.Min            0\n",
              "Label               0\n",
              "Family              0\n",
              "Length: 85, dtype: int64"
            ]
          },
          "metadata": {
            "tags": []
          },
          "execution_count": 360
        }
      ]
    },
    {
      "cell_type": "code",
      "metadata": {
        "id": "26PfdehiyW8P"
      },
      "source": [
        "c =  real_df.drop('Label', axis=1)\n",
        "a= c.drop('Family', axis=1)\n",
        "b = real_df['Label']"
      ],
      "execution_count": 361,
      "outputs": []
    },
    {
      "cell_type": "code",
      "metadata": {
        "id": "9Ol8sRr1yhli"
      },
      "source": [
        "#Univariate feature selection\n",
        "from sklearn.feature_selection import SelectKBest\n",
        "from sklearn.feature_selection import f_classif"
      ],
      "execution_count": 362,
      "outputs": []
    },
    {
      "cell_type": "code",
      "metadata": {
        "colab": {
          "base_uri": "https://localhost:8080/"
        },
        "id": "75H3uv6Dyry4",
        "outputId": "3ae3c07f-bda1-4464-cf81-b29d4a6d246f"
      },
      "source": [
        "bestfeatures = SelectKBest(score_func=f_classif, k=10)\n",
        "fit = bestfeatures.fit(a,b)"
      ],
      "execution_count": 363,
      "outputs": [
        {
          "output_type": "stream",
          "text": [
            "/usr/local/lib/python3.7/dist-packages/sklearn/feature_selection/_univariate_selection.py:114: UserWarning: Features [36 37 38 50 54 55 61 62 63 64 65 66] are constant.\n",
            "  UserWarning)\n",
            "/usr/local/lib/python3.7/dist-packages/sklearn/feature_selection/_univariate_selection.py:115: RuntimeWarning: invalid value encountered in true_divide\n",
            "  f = msb / msw\n"
          ],
          "name": "stderr"
        }
      ]
    },
    {
      "cell_type": "code",
      "metadata": {
        "id": "WkSP3EvOWXZE"
      },
      "source": [
        "dfscores = pd.DataFrame(fit.scores_)\n",
        "dfcolumns = pd.DataFrame(a.columns)"
      ],
      "execution_count": 364,
      "outputs": []
    },
    {
      "cell_type": "code",
      "metadata": {
        "id": "edmAFFg4WsAA"
      },
      "source": [
        "#concat two dataframes for better visualization \n",
        "featureScores = pd.concat([dfcolumns,dfscores],axis=1)\n",
        "featureScores.columns = ['Specs','Score']  #naming the dataframe columns"
      ],
      "execution_count": 365,
      "outputs": []
    },
    {
      "cell_type": "code",
      "metadata": {
        "colab": {
          "base_uri": "https://localhost:8080/",
          "height": 419
        },
        "id": "RAui0dSeWvKt",
        "outputId": "41d65b3c-8931-411d-fdde-8afd87c50906"
      },
      "source": [
        "featureScores"
      ],
      "execution_count": 366,
      "outputs": [
        {
          "output_type": "execute_result",
          "data": {
            "text/html": [
              "<div>\n",
              "<style scoped>\n",
              "    .dataframe tbody tr th:only-of-type {\n",
              "        vertical-align: middle;\n",
              "    }\n",
              "\n",
              "    .dataframe tbody tr th {\n",
              "        vertical-align: top;\n",
              "    }\n",
              "\n",
              "    .dataframe thead th {\n",
              "        text-align: right;\n",
              "    }\n",
              "</style>\n",
              "<table border=\"1\" class=\"dataframe\">\n",
              "  <thead>\n",
              "    <tr style=\"text-align: right;\">\n",
              "      <th></th>\n",
              "      <th>Specs</th>\n",
              "      <th>Score</th>\n",
              "    </tr>\n",
              "  </thead>\n",
              "  <tbody>\n",
              "    <tr>\n",
              "      <th>0</th>\n",
              "      <td>Source.IP</td>\n",
              "      <td>12.573399</td>\n",
              "    </tr>\n",
              "    <tr>\n",
              "      <th>1</th>\n",
              "      <td>Source.Port</td>\n",
              "      <td>89.198627</td>\n",
              "    </tr>\n",
              "    <tr>\n",
              "      <th>2</th>\n",
              "      <td>Destination.IP</td>\n",
              "      <td>104.574873</td>\n",
              "    </tr>\n",
              "    <tr>\n",
              "      <th>3</th>\n",
              "      <td>Destination.Port</td>\n",
              "      <td>127.106005</td>\n",
              "    </tr>\n",
              "    <tr>\n",
              "      <th>4</th>\n",
              "      <td>Protocol</td>\n",
              "      <td>142.148710</td>\n",
              "    </tr>\n",
              "    <tr>\n",
              "      <th>...</th>\n",
              "      <td>...</td>\n",
              "      <td>...</td>\n",
              "    </tr>\n",
              "    <tr>\n",
              "      <th>78</th>\n",
              "      <td>Active.Min</td>\n",
              "      <td>39.867481</td>\n",
              "    </tr>\n",
              "    <tr>\n",
              "      <th>79</th>\n",
              "      <td>Idle.Mean</td>\n",
              "      <td>85.681873</td>\n",
              "    </tr>\n",
              "    <tr>\n",
              "      <th>80</th>\n",
              "      <td>Idle.Std</td>\n",
              "      <td>24.380698</td>\n",
              "    </tr>\n",
              "    <tr>\n",
              "      <th>81</th>\n",
              "      <td>Idle.Max</td>\n",
              "      <td>93.185653</td>\n",
              "    </tr>\n",
              "    <tr>\n",
              "      <th>82</th>\n",
              "      <td>Idle.Min</td>\n",
              "      <td>75.682306</td>\n",
              "    </tr>\n",
              "  </tbody>\n",
              "</table>\n",
              "<p>83 rows × 2 columns</p>\n",
              "</div>"
            ],
            "text/plain": [
              "               Specs       Score\n",
              "0          Source.IP   12.573399\n",
              "1        Source.Port   89.198627\n",
              "2     Destination.IP  104.574873\n",
              "3   Destination.Port  127.106005\n",
              "4           Protocol  142.148710\n",
              "..               ...         ...\n",
              "78        Active.Min   39.867481\n",
              "79         Idle.Mean   85.681873\n",
              "80          Idle.Std   24.380698\n",
              "81          Idle.Max   93.185653\n",
              "82          Idle.Min   75.682306\n",
              "\n",
              "[83 rows x 2 columns]"
            ]
          },
          "metadata": {
            "tags": []
          },
          "execution_count": 366
        }
      ]
    },
    {
      "cell_type": "code",
      "metadata": {
        "colab": {
          "base_uri": "https://localhost:8080/"
        },
        "id": "SfGJb5g4WxBZ",
        "outputId": "7587e154-77c0-473b-e71c-e0638cd17908"
      },
      "source": [
        "print(featureScores.nlargest(15,'Score'))  #print 15 best features"
      ],
      "execution_count": 367,
      "outputs": [
        {
          "output_type": "stream",
          "text": [
            "               Specs         Score\n",
            "5          Timestamp  27707.365004\n",
            "4           Protocol    142.148710\n",
            "28       Fwd.IAT.Max    140.341282\n",
            "25     Fwd.IAT.Total    129.423231\n",
            "3   Destination.Port    127.106005\n",
            "23      Flow.IAT.Max    115.951485\n",
            "35     Fwd.PSH.Flags    114.141354\n",
            "49    SYN.Flag.Count    114.141354\n",
            "2     Destination.IP    104.574873\n",
            "6      Flow.Duration     99.293089\n",
            "27       Fwd.IAT.Std     94.692103\n",
            "81          Idle.Max     93.185653\n",
            "1        Source.Port     89.198627\n",
            "79         Idle.Mean     85.681873\n",
            "22      Flow.IAT.Std     85.226464\n"
          ],
          "name": "stdout"
        }
      ]
    },
    {
      "cell_type": "code",
      "metadata": {
        "id": "4RXi_cp5XD2G"
      },
      "source": [
        "myl = featureScores.nlargest(15,'Score')['Specs']"
      ],
      "execution_count": 368,
      "outputs": []
    },
    {
      "cell_type": "code",
      "metadata": {
        "id": "XZ_8yCIkjfcF"
      },
      "source": [
        "X = real_df[myl]\n",
        "y = real_df['Label']"
      ],
      "execution_count": 369,
      "outputs": []
    },
    {
      "cell_type": "code",
      "metadata": {
        "id": "ZagZ9NiNXJQa"
      },
      "source": [
        "from sklearn.model_selection import train_test_split\n",
        "X_train, X_test, y_train, y_test = train_test_split(X, y, test_size=0.20)"
      ],
      "execution_count": 370,
      "outputs": []
    },
    {
      "cell_type": "code",
      "metadata": {
        "colab": {
          "base_uri": "https://localhost:8080/"
        },
        "id": "e7-lScSOXL35",
        "outputId": "e3bb0a07-1055-461f-a4cb-ae7c4b168834"
      },
      "source": [
        "from sklearn.tree import DecisionTreeClassifier\n",
        "classifier = DecisionTreeClassifier()\n",
        "classifier.fit(X_train, y_train)"
      ],
      "execution_count": 371,
      "outputs": [
        {
          "output_type": "execute_result",
          "data": {
            "text/plain": [
              "DecisionTreeClassifier(ccp_alpha=0.0, class_weight=None, criterion='gini',\n",
              "                       max_depth=None, max_features=None, max_leaf_nodes=None,\n",
              "                       min_impurity_decrease=0.0, min_impurity_split=None,\n",
              "                       min_samples_leaf=1, min_samples_split=2,\n",
              "                       min_weight_fraction_leaf=0.0, presort='deprecated',\n",
              "                       random_state=None, splitter='best')"
            ]
          },
          "metadata": {
            "tags": []
          },
          "execution_count": 371
        }
      ]
    },
    {
      "cell_type": "code",
      "metadata": {
        "id": "BS_IbcCjXON5"
      },
      "source": [
        "y_pred = classifier.predict(X_test)"
      ],
      "execution_count": 372,
      "outputs": []
    },
    {
      "cell_type": "code",
      "metadata": {
        "colab": {
          "base_uri": "https://localhost:8080/"
        },
        "id": "G725i7ciXRJ4",
        "outputId": "7f30b5e3-fbae-42db-86bb-929cc8e5afb6"
      },
      "source": [
        "from sklearn.metrics import classification_report, confusion_matrix\n",
        "from sklearn.model_selection import cross_val_score\n",
        "print(confusion_matrix(y_test, y_pred))\n",
        "print(classification_report(y_test, y_pred))"
      ],
      "execution_count": 373,
      "outputs": [
        {
          "output_type": "stream",
          "text": [
            "[[5851  229    0    0    0]\n",
            " [ 228 5812    0    0    0]\n",
            " [   0    0 6053    0    0]\n",
            " [   0    0    0 5562  909]\n",
            " [   0    0    0 1037 5353]]\n",
            "              precision    recall  f1-score   support\n",
            "\n",
            "         0.0       0.96      0.96      0.96      6080\n",
            "         1.0       0.96      0.96      0.96      6040\n",
            "         2.0       1.00      1.00      1.00      6053\n",
            "         3.0       0.84      0.86      0.85      6471\n",
            "         4.0       0.85      0.84      0.85      6390\n",
            "\n",
            "    accuracy                           0.92     31034\n",
            "   macro avg       0.92      0.92      0.92     31034\n",
            "weighted avg       0.92      0.92      0.92     31034\n",
            "\n"
          ],
          "name": "stdout"
        }
      ]
    },
    {
      "cell_type": "code",
      "metadata": {
        "id": "dNS1vsfPXqbU",
        "colab": {
          "base_uri": "https://localhost:8080/"
        },
        "outputId": "1775d811-ff1a-4eb9-9d14-40ee75db92c8"
      },
      "source": [
        "#Import scikit-learn metrics module for accuracy calculation\n",
        "from sklearn import metrics\n",
        "\n",
        "# Model Accuracy, how often is the classifier correct?\n",
        "print(\"Accuracy:\",metrics.accuracy_score(y_test, y_pred))\n",
        "print(\"precision:\",metrics.precision_score(y_test, y_pred,average='micro'))\n",
        "print(\"Recall:\",metrics.recall_score(y_test, y_pred,average='micro'))\n",
        "print(\"F1-Score:\",metrics.f1_score(y_test, y_pred,average='micro'))"
      ],
      "execution_count": 374,
      "outputs": [
        {
          "output_type": "stream",
          "text": [
            "Accuracy: 0.9225687955145969\n",
            "precision: 0.9225687955145969\n",
            "Recall: 0.9225687955145969\n",
            "F1-Score: 0.9225687955145969\n"
          ],
          "name": "stdout"
        }
      ]
    },
    {
      "cell_type": "code",
      "metadata": {
        "id": "iSgmmxTCXRiL",
        "colab": {
          "base_uri": "https://localhost:8080/"
        },
        "outputId": "99d82b25-932e-4919-e80c-a201e9b36966"
      },
      "source": [
        "from sklearn.model_selection import KFold\n",
        "from sklearn.metrics import accuracy_score, precision_score, recall_score, f1_score\n",
        "validation_accuracy = []\n",
        "validation_f1 =[]\n",
        "fold_and_validate = KFold(n_splits=10, shuffle=True, random_state=145)\n",
        "for train_set_indices, validation_set_indices in fold_and_validate.split(X_train):\n",
        "    cv_train_set = X_train.iloc[train_set_indices]\n",
        "    cv_train_target = y_train.iloc[train_set_indices]\n",
        "    \n",
        "    cv_xvalidation = X_train.iloc[validation_set_indices]\n",
        "    cv_y_true = y_train.iloc[validation_set_indices]\n",
        "    cv_y_predicted = classifier.predict(cv_xvalidation)\n",
        "    \n",
        "    cv_accuracy_score = accuracy_score(cv_y_true, cv_y_predicted)\n",
        "    cv_f1_score = f1_score(cv_y_true, cv_y_predicted,  average=\"weighted\")\n",
        "    validation_accuracy.append(cv_accuracy_score)\n",
        "    validation_f1.append(cv_f1_score)\n",
        "    \n",
        "print(\"Cross validation accuracies are: \", validation_accuracy)\n",
        "print(\"Cross validation f1 scores  are: \", validation_f1)"
      ],
      "execution_count": 375,
      "outputs": [
        {
          "output_type": "stream",
          "text": [
            "Cross validation accuracies are:  [0.9963750604156597, 0.996697277267601, 0.9956500724987917, 0.995730626711777, 0.9970194941195425, 0.995730626711777, 0.996294207685491, 0.9966970111979376, 0.9957302827680657, 0.9961330862805123]\n",
            "Cross validation f1 scores  are:  [0.9963740287636405, 0.996696659167164, 0.9956488214358477, 0.9957292213894661, 0.9970189280269249, 0.9957301493937114, 0.996292964552675, 0.996696487940827, 0.9957286272822201, 0.9961323756230006]\n"
          ],
          "name": "stdout"
        }
      ]
    },
    {
      "cell_type": "code",
      "metadata": {
        "id": "TKuR2BzXXr1y"
      },
      "source": [
        "#Import Random Forest Model\n",
        "from sklearn.ensemble import RandomForestClassifier\n",
        "\n",
        "#Create a Gaussian Classifier\n",
        "clf=RandomForestClassifier(n_estimators=100)\n",
        "\n",
        "#Train the model using the training sets y_pred=clf.predict(X_test)\n",
        "clf.fit(X_train,y_train)\n",
        "\n",
        "y_pred=clf.predict(X_test)"
      ],
      "execution_count": 376,
      "outputs": []
    },
    {
      "cell_type": "code",
      "metadata": {
        "id": "mrRmCDj3Xwvh",
        "colab": {
          "base_uri": "https://localhost:8080/"
        },
        "outputId": "83d378ff-33d2-4554-c7d3-4f8e3dbad309"
      },
      "source": [
        "from sklearn.metrics import classification_report, confusion_matrix\n",
        "from sklearn.metrics import multilabel_confusion_matrix\n",
        "#print(confusion_matrix(y_test, y_pred))\n",
        "print(classification_report(y_test, y_pred))"
      ],
      "execution_count": 377,
      "outputs": [
        {
          "output_type": "stream",
          "text": [
            "              precision    recall  f1-score   support\n",
            "\n",
            "         0.0       0.95      0.99      0.97      6080\n",
            "         1.0       0.97      0.95      0.96      6040\n",
            "         2.0       0.97      0.96      0.96      6053\n",
            "         3.0       0.83      0.85      0.84      6471\n",
            "         4.0       0.86      0.83      0.85      6390\n",
            "\n",
            "    accuracy                           0.91     31034\n",
            "   macro avg       0.92      0.92      0.92     31034\n",
            "weighted avg       0.91      0.91      0.91     31034\n",
            "\n"
          ],
          "name": "stdout"
        }
      ]
    },
    {
      "cell_type": "code",
      "metadata": {
        "id": "Y2tPf17UXzJV",
        "colab": {
          "base_uri": "https://localhost:8080/"
        },
        "outputId": "2c7c5cf3-27ca-4f50-b243-95234822aae4"
      },
      "source": [
        "#Import scikit-learn metrics module for accuracy calculation\n",
        "from sklearn import metrics\n",
        "\n",
        "# Model Accuracy, how often is the classifier correct?\n",
        "print(\"Accuracy:\",metrics.accuracy_score(y_test, y_pred))\n",
        "print(\"precision:\",metrics.precision_score(y_test, y_pred,average='micro'))\n",
        "print(\"Recall:\",metrics.recall_score(y_test, y_pred,average='micro'))\n",
        "print(\"F1-Score:\",metrics.f1_score(y_test, y_pred,average='micro'))"
      ],
      "execution_count": 378,
      "outputs": [
        {
          "output_type": "stream",
          "text": [
            "Accuracy: 0.9147386737127022\n",
            "precision: 0.9147386737127022\n",
            "Recall: 0.9147386737127022\n",
            "F1-Score: 0.9147386737127022\n"
          ],
          "name": "stdout"
        }
      ]
    },
    {
      "cell_type": "code",
      "metadata": {
        "id": "HYCllIKpX12w",
        "colab": {
          "base_uri": "https://localhost:8080/"
        },
        "outputId": "a93eba54-e3a0-4853-eb7b-a31d28d35ebf"
      },
      "source": [
        "from sklearn.model_selection import KFold\n",
        "from sklearn.metrics import accuracy_score, precision_score, recall_score, f1_score\n",
        "validation_accuracy = []\n",
        "validation_f1 =[]\n",
        "fold_and_validate = KFold(n_splits=10, shuffle=True, random_state=145)\n",
        "for train_set_indices, validation_set_indices in fold_and_validate.split(X_train):\n",
        "    cv_train_set = X_train.iloc[train_set_indices]\n",
        "    cv_train_target = y_train.iloc[train_set_indices]\n",
        "    \n",
        "    cv_xvalidation = X_train.iloc[validation_set_indices]\n",
        "    cv_y_true = y_train.iloc[validation_set_indices]\n",
        "    cv_y_predicted = clf.predict(cv_xvalidation)\n",
        "    \n",
        "    cv_accuracy_score = accuracy_score(cv_y_true, cv_y_predicted)\n",
        "    cv_f1_score = f1_score(cv_y_true, cv_y_predicted,  average=\"weighted\")\n",
        "    validation_accuracy.append(cv_accuracy_score)\n",
        "    validation_f1.append(cv_f1_score)\n",
        "    \n",
        "print(\"Cross validation accuracies are: \", validation_accuracy)\n",
        "print(\"Cross validation f1 scores  are: \", validation_f1)"
      ],
      "execution_count": 379,
      "outputs": [
        {
          "output_type": "stream",
          "text": [
            "Cross validation accuracies are:  [0.995972289350733, 0.9970194941195425, 0.9958111809247624, 0.9964556146286451, 0.9966167230546158, 0.995730626711777, 0.9962136469830017, 0.996052525578023, 0.9961330862805123, 0.996052525578023]\n",
            "Cross validation f1 scores  are:  [0.9959726045390707, 0.9970195652276436, 0.9958113870131997, 0.9964558158014318, 0.9966168266328659, 0.9957306223687942, 0.9962137142513927, 0.9960528080074718, 0.9961329301657174, 0.9960525664805187]\n"
          ],
          "name": "stdout"
        }
      ]
    },
    {
      "cell_type": "code",
      "metadata": {
        "id": "kjIUDTuDX6iZ"
      },
      "source": [
        "from sklearn.neighbors import KNeighborsClassifier\n",
        "\n",
        "#Create KNN Classifier\n",
        "knn = KNeighborsClassifier(n_neighbors=10)\n",
        "\n",
        "#Train the model using the training sets\n",
        "knn.fit(X_train, y_train)\n",
        "\n",
        "#Predict the response for test dataset\n",
        "y_pred = knn.predict(X_test)"
      ],
      "execution_count": 380,
      "outputs": []
    },
    {
      "cell_type": "code",
      "metadata": {
        "id": "6Uz6jMRgX9VI",
        "colab": {
          "base_uri": "https://localhost:8080/"
        },
        "outputId": "dda603fa-fc1a-49cb-8d1d-03c04c307819"
      },
      "source": [
        "from sklearn.metrics import classification_report, confusion_matrix\n",
        "print(confusion_matrix(y_test, y_pred))\n",
        "print(classification_report(y_test, y_pred))"
      ],
      "execution_count": 381,
      "outputs": [
        {
          "output_type": "stream",
          "text": [
            "[[6073    7    0    0    0]\n",
            " [ 281 5757    0    0    2]\n",
            " [   0    0 6053    0    0]\n",
            " [   0    0    0 5696  775]\n",
            " [   6    4    0  888 5492]]\n",
            "              precision    recall  f1-score   support\n",
            "\n",
            "         0.0       0.95      1.00      0.98      6080\n",
            "         1.0       1.00      0.95      0.98      6040\n",
            "         2.0       1.00      1.00      1.00      6053\n",
            "         3.0       0.87      0.88      0.87      6471\n",
            "         4.0       0.88      0.86      0.87      6390\n",
            "\n",
            "    accuracy                           0.94     31034\n",
            "   macro avg       0.94      0.94      0.94     31034\n",
            "weighted avg       0.94      0.94      0.94     31034\n",
            "\n"
          ],
          "name": "stdout"
        }
      ]
    },
    {
      "cell_type": "code",
      "metadata": {
        "id": "hWoHOhoDX_XB",
        "colab": {
          "base_uri": "https://localhost:8080/"
        },
        "outputId": "e32c7c38-0329-41fb-90fd-c5dfc19979ee"
      },
      "source": [
        "#Import scikit-learn metrics module for accuracy calculation\n",
        "from sklearn import metrics\n",
        "\n",
        "# Model Accuracy, how often is the classifier correct?\n",
        "print(\"Accuracy:\",metrics.accuracy_score(y_test, y_pred))\n",
        "print(\"precision:\",metrics.precision_score(y_test, y_pred,average='micro'))\n",
        "print(\"Recall:\",metrics.recall_score(y_test, y_pred,average='micro'))\n",
        "print(\"F1-Score:\",metrics.f1_score(y_test, y_pred,average='micro'))"
      ],
      "execution_count": 382,
      "outputs": [
        {
          "output_type": "stream",
          "text": [
            "Accuracy: 0.9367467938390153\n",
            "precision: 0.9367467938390153\n",
            "Recall: 0.9367467938390153\n",
            "F1-Score: 0.9367467938390153\n"
          ],
          "name": "stdout"
        }
      ]
    },
    {
      "cell_type": "code",
      "metadata": {
        "id": "U0tOXr76YB1N",
        "colab": {
          "base_uri": "https://localhost:8080/"
        },
        "outputId": "734b3016-9388-4de3-c353-f34e387245c4"
      },
      "source": [
        "from sklearn.model_selection import KFold\n",
        "from sklearn.metrics import accuracy_score, precision_score, recall_score, f1_score\n",
        "validation_accuracy = []\n",
        "validation_f1 =[]\n",
        "fold_and_validate = KFold(n_splits=10, shuffle=True, random_state=145)\n",
        "for train_set_indices, validation_set_indices in fold_and_validate.split(X_train):\n",
        "    cv_train_set = X_train.iloc[train_set_indices]\n",
        "    cv_train_target = y_train.iloc[train_set_indices]\n",
        "    \n",
        "    cv_xvalidation = X_train.iloc[validation_set_indices]\n",
        "    cv_y_true = y_train.iloc[validation_set_indices]\n",
        "    cv_y_predicted = knn.predict(cv_xvalidation)\n",
        "    \n",
        "    cv_accuracy_score = accuracy_score(cv_y_true, cv_y_predicted)\n",
        "    cv_f1_score = f1_score(cv_y_true, cv_y_predicted,  average=\"weighted\")\n",
        "    validation_accuracy.append(cv_accuracy_score)\n",
        "    validation_f1.append(cv_f1_score)\n",
        "    \n",
        "print(\"Cross validation accuracies are: \", validation_accuracy)\n",
        "print(\"Cross validation f1 scores  are: \", validation_f1)"
      ],
      "execution_count": 383,
      "outputs": [
        {
          "output_type": "stream",
          "text": [
            "Cross validation accuracies are:  [0.9483647494763976, 0.9459481230868374, 0.9449814725310134, 0.9465120025777348, 0.9493314000322217, 0.9424842919284678, 0.9439297510674293, 0.944090872472408, 0.9428824619350681, 0.9461854507371305]\n",
            "Cross validation f1 scores  are:  [0.9483280046542442, 0.945900988498243, 0.9449400753444028, 0.9464840488047416, 0.9493157934035397, 0.9424592502395729, 0.9439038598728091, 0.9440608764732235, 0.9428509899156503, 0.9461437706470972]\n"
          ],
          "name": "stdout"
        }
      ]
    },
    {
      "cell_type": "code",
      "metadata": {
        "id": "GQozophFYFHG"
      },
      "source": [
        "#Import Gaussian Naive Bayes model\n",
        "from sklearn.naive_bayes import GaussianNB\n",
        "\n",
        "#Create a Gaussian Classifier\n",
        "gnb = GaussianNB()\n",
        "\n",
        "#Train the model using the training sets\n",
        "gnb.fit(X_train, y_train)\n",
        "\n",
        "#Predict the response for test dataset\n",
        "y_pred = gnb.predict(X_test)"
      ],
      "execution_count": 384,
      "outputs": []
    },
    {
      "cell_type": "code",
      "metadata": {
        "id": "nwyoBgnkYJRq",
        "colab": {
          "base_uri": "https://localhost:8080/"
        },
        "outputId": "dab0e98d-e43c-4c51-c141-b8894dd12e9a"
      },
      "source": [
        "from sklearn.metrics import classification_report, confusion_matrix\n",
        "print(confusion_matrix(y_test, y_pred))\n",
        "print(classification_report(y_test, y_pred))"
      ],
      "execution_count": 385,
      "outputs": [
        {
          "output_type": "stream",
          "text": [
            "[[5640    0    0  440    0]\n",
            " [ 312 5728    0    0    0]\n",
            " [   0    0 4480 1573    0]\n",
            " [   0    0 4892 1390  189]\n",
            " [ 881 1046 2282  237 1944]]\n",
            "              precision    recall  f1-score   support\n",
            "\n",
            "         0.0       0.83      0.93      0.87      6080\n",
            "         1.0       0.85      0.95      0.89      6040\n",
            "         2.0       0.38      0.74      0.51      6053\n",
            "         3.0       0.38      0.21      0.27      6471\n",
            "         4.0       0.91      0.30      0.46      6390\n",
            "\n",
            "    accuracy                           0.62     31034\n",
            "   macro avg       0.67      0.63      0.60     31034\n",
            "weighted avg       0.67      0.62      0.60     31034\n",
            "\n"
          ],
          "name": "stdout"
        }
      ]
    },
    {
      "cell_type": "code",
      "metadata": {
        "id": "IQMmjeKDYMUF",
        "colab": {
          "base_uri": "https://localhost:8080/"
        },
        "outputId": "0c429b5f-ef9e-4615-ae07-de52fe417791"
      },
      "source": [
        "#Import scikit-learn metrics module for accuracy calculation\n",
        "from sklearn import metrics\n",
        "\n",
        "# Model Accuracy, how often is the classifier correct?\n",
        "print(\"Accuracy:\",metrics.accuracy_score(y_test, y_pred))\n",
        "print(\"precision:\",metrics.precision_score(y_test, y_pred,average='micro'))\n",
        "print(\"Recall:\",metrics.recall_score(y_test, y_pred,average='micro'))\n",
        "print(\"F1-Score:\",metrics.f1_score(y_test, y_pred,average='micro'))"
      ],
      "execution_count": 386,
      "outputs": [
        {
          "output_type": "stream",
          "text": [
            "Accuracy: 0.6180962814977122\n",
            "precision: 0.6180962814977122\n",
            "Recall: 0.6180962814977122\n",
            "F1-Score: 0.6180962814977122\n"
          ],
          "name": "stdout"
        }
      ]
    },
    {
      "cell_type": "code",
      "metadata": {
        "id": "m9R_o5EWYPKs",
        "colab": {
          "base_uri": "https://localhost:8080/"
        },
        "outputId": "86ea4302-5a31-4dd5-b363-059d7cf04c80"
      },
      "source": [
        "from sklearn.model_selection import KFold\n",
        "from sklearn.metrics import accuracy_score, precision_score, recall_score, f1_score\n",
        "validation_accuracy = []\n",
        "validation_f1 =[]\n",
        "fold_and_validate = KFold(n_splits=10, shuffle=True, random_state=145)\n",
        "for train_set_indices, validation_set_indices in fold_and_validate.split(X_train):\n",
        "    cv_train_set = X_train.iloc[train_set_indices]\n",
        "    cv_train_target = y_train.iloc[train_set_indices]\n",
        "    \n",
        "    cv_xvalidation = X_train.iloc[validation_set_indices]\n",
        "    cv_y_true = y_train.iloc[validation_set_indices]\n",
        "    cv_y_predicted = gnb.predict(cv_xvalidation)\n",
        "    \n",
        "    cv_accuracy_score = accuracy_score(cv_y_true, cv_y_predicted)\n",
        "    cv_f1_score = f1_score(cv_y_true, cv_y_predicted,  average=\"weighted\")\n",
        "    validation_accuracy.append(cv_accuracy_score)\n",
        "    validation_f1.append(cv_f1_score)\n",
        "    \n",
        "print(\"Cross validation accuracies are: \", validation_accuracy)\n",
        "print(\"Cross validation f1 scores  are: \", validation_f1)"
      ],
      "execution_count": 387,
      "outputs": [
        {
          "output_type": "stream",
          "text": [
            "Cross validation accuracies are:  [0.6091509585951346, 0.6133397776703722, 0.621395198968906, 0.6187369099403899, 0.6142258740132109, 0.6210729821169647, 0.6100056392491743, 0.6117779747039395, 0.6144364778860871, 0.6232175944574236]\n",
            "Cross validation f1 scores  are:  [0.5876647802584687, 0.5915778297538951, 0.6005743317927187, 0.5976182147545559, 0.5924839371507401, 0.5996449047587753, 0.586197763343962, 0.5915790410092824, 0.5913389475923169, 0.6018446319050438]\n"
          ],
          "name": "stdout"
        }
      ]
    },
    {
      "cell_type": "code",
      "metadata": {
        "id": "vFLboKMEYQ3g"
      },
      "source": [
        "from sklearn.ensemble import GradientBoostingClassifier\n",
        "from sklearn import model_selection\n",
        "\n",
        "model_sgb = GradientBoostingClassifier(n_estimators=100, random_state=10)\n",
        "model_sgb.fit(X_train,y_train)\n",
        "y_pred = model_sgb.predict(X_test)"
      ],
      "execution_count": 388,
      "outputs": []
    },
    {
      "cell_type": "code",
      "metadata": {
        "id": "zi-nXaazYTF1",
        "colab": {
          "base_uri": "https://localhost:8080/"
        },
        "outputId": "8c22f023-fa16-44e2-8ba1-ae6eb85634a2"
      },
      "source": [
        "from sklearn.metrics import classification_report, confusion_matrix\n",
        "print(confusion_matrix(y_test, y_pred))\n",
        "print(classification_report(y_test, y_pred))"
      ],
      "execution_count": 389,
      "outputs": [
        {
          "output_type": "stream",
          "text": [
            "[[6080    0    0    0    0]\n",
            " [ 312 5728    0    0    0]\n",
            " [   0    0 6053    0    0]\n",
            " [   0    0    0 5534  937]\n",
            " [   0    0    0  591 5799]]\n",
            "              precision    recall  f1-score   support\n",
            "\n",
            "         0.0       0.95      1.00      0.97      6080\n",
            "         1.0       1.00      0.95      0.97      6040\n",
            "         2.0       1.00      1.00      1.00      6053\n",
            "         3.0       0.90      0.86      0.88      6471\n",
            "         4.0       0.86      0.91      0.88      6390\n",
            "\n",
            "    accuracy                           0.94     31034\n",
            "   macro avg       0.94      0.94      0.94     31034\n",
            "weighted avg       0.94      0.94      0.94     31034\n",
            "\n"
          ],
          "name": "stdout"
        }
      ]
    },
    {
      "cell_type": "code",
      "metadata": {
        "id": "BIbKsMuiYVN6",
        "colab": {
          "base_uri": "https://localhost:8080/"
        },
        "outputId": "2cd9628d-950a-4fb6-bec2-9f6785791ff8"
      },
      "source": [
        "#Import scikit-learn metrics module for accuracy calculation\n",
        "from sklearn import metrics\n",
        "\n",
        "# Model Accuracy, how often is the classifier correct?\n",
        "print(\"Accuracy:\",metrics.accuracy_score(y_test, y_pred))\n",
        "print(\"precision:\",metrics.precision_score(y_test, y_pred,average='micro'))\n",
        "print(\"Recall:\",metrics.recall_score(y_test, y_pred,average='micro'))\n",
        "print(\"F1-Score:\",metrics.f1_score(y_test, y_pred,average='micro'))"
      ],
      "execution_count": 390,
      "outputs": [
        {
          "output_type": "stream",
          "text": [
            "Accuracy: 0.9407101888251596\n",
            "precision: 0.9407101888251596\n",
            "Recall: 0.9407101888251596\n",
            "F1-Score: 0.9407101888251596\n"
          ],
          "name": "stdout"
        }
      ]
    },
    {
      "cell_type": "code",
      "metadata": {
        "id": "avz-VFhzYYBQ",
        "colab": {
          "base_uri": "https://localhost:8080/"
        },
        "outputId": "5c9e1ea9-b2ab-4de7-9c25-89749bdda395"
      },
      "source": [
        "from sklearn.model_selection import KFold\n",
        "validation_accuracy = []\n",
        "validation_f1 =[]\n",
        "fold_and_validate = KFold(n_splits=10, shuffle=True, random_state=145)\n",
        "for train_set_indices, validation_set_indices in fold_and_validate.split(X_train):\n",
        "    cv_train_set = X_train.iloc[train_set_indices]\n",
        "    cv_train_target = y_train.iloc[train_set_indices]\n",
        "    \n",
        "    cv_xvalidation = X_train.iloc[validation_set_indices]\n",
        "    cv_y_true = y_train.iloc[validation_set_indices]\n",
        "    cv_y_predicted = model_sgb.predict(cv_xvalidation)\n",
        "    \n",
        "    cv_accuracy_score = accuracy_score(cv_y_true, cv_y_predicted)\n",
        "    cv_f1_score = f1_score(cv_y_true, cv_y_predicted,  average=\"weighted\")\n",
        "    validation_accuracy.append(cv_accuracy_score)\n",
        "    validation_f1.append(cv_f1_score)\n",
        "    \n",
        "print(\"Cross validation accuracies are: \", validation_accuracy)\n",
        "print(\"Cross validation f1 scores  are: \", validation_f1)"
      ],
      "execution_count": 391,
      "outputs": [
        {
          "output_type": "stream",
          "text": [
            "Cross validation accuracies are:  [0.9406315450298051, 0.9381343644272595, 0.9396648944739809, 0.9406315450298051, 0.94417593040116, 0.9380538102142743, 0.9370015306533473, 0.9356319987110288, 0.9370820913558366, 0.9414323692902602]\n",
            "Cross validation f1 scores  are:  [0.9406256494860805, 0.938119692542152, 0.9396509786354906, 0.9406267204046758, 0.9441641427384806, 0.937986622887227, 0.9369923486722186, 0.93561118900033, 0.9370744549607666, 0.9414050109829782]\n"
          ],
          "name": "stdout"
        }
      ]
    },
    {
      "cell_type": "code",
      "metadata": {
        "colab": {
          "base_uri": "https://localhost:8080/"
        },
        "id": "CcxYyeKLAcjt",
        "outputId": "6830013a-65d4-416c-d27c-ae9b14ffc1f0"
      },
      "source": [
        "print(\"From here we will calculate what type of family it is\")"
      ],
      "execution_count": 392,
      "outputs": [
        {
          "output_type": "stream",
          "text": [
            "From here we will calculate what type of family it is\n"
          ],
          "name": "stdout"
        }
      ]
    },
    {
      "cell_type": "code",
      "metadata": {
        "id": "XTwQn6-VAdEo"
      },
      "source": [
        "c =  real_df.drop('Family', axis=1)\n",
        "a = c.drop('Label', axis=1)\n",
        "b = real_df['Family']"
      ],
      "execution_count": 393,
      "outputs": []
    },
    {
      "cell_type": "code",
      "metadata": {
        "id": "itsU1Jn3AdM1"
      },
      "source": [
        "#Univariate feature selection\n",
        "from sklearn.feature_selection import SelectKBest\n",
        "from sklearn.feature_selection import f_classif"
      ],
      "execution_count": 394,
      "outputs": []
    },
    {
      "cell_type": "code",
      "metadata": {
        "colab": {
          "base_uri": "https://localhost:8080/"
        },
        "id": "6odlvo1iAdUd",
        "outputId": "5d81d662-1ad9-4dce-a9da-d51b33cb4088"
      },
      "source": [
        "bestfeatures = SelectKBest(score_func=f_classif, k=10)\n",
        "fit = bestfeatures.fit(a,b)"
      ],
      "execution_count": 395,
      "outputs": [
        {
          "output_type": "stream",
          "text": [
            "/usr/local/lib/python3.7/dist-packages/sklearn/feature_selection/_univariate_selection.py:114: UserWarning: Features [36 37 38 50 54 55 61 62 63 64 65 66] are constant.\n",
            "  UserWarning)\n",
            "/usr/local/lib/python3.7/dist-packages/sklearn/feature_selection/_univariate_selection.py:115: RuntimeWarning: invalid value encountered in true_divide\n",
            "  f = msb / msw\n"
          ],
          "name": "stderr"
        }
      ]
    },
    {
      "cell_type": "code",
      "metadata": {
        "id": "wEYcMXXVAdah"
      },
      "source": [
        "dfscores = pd.DataFrame(fit.scores_)\n",
        "dfcolumns = pd.DataFrame(a.columns)"
      ],
      "execution_count": 396,
      "outputs": []
    },
    {
      "cell_type": "code",
      "metadata": {
        "id": "Cu-7svIkAdiz"
      },
      "source": [
        "#concat two dataframes for better visualization \n",
        "featureScores = pd.concat([dfcolumns,dfscores],axis=1)\n",
        "featureScores.columns = ['Specs','Score']  #naming the dataframe columns"
      ],
      "execution_count": 397,
      "outputs": []
    },
    {
      "cell_type": "code",
      "metadata": {
        "colab": {
          "base_uri": "https://localhost:8080/",
          "height": 419
        },
        "id": "Zn-xhC6XAdoW",
        "outputId": "1680cfb7-7169-4f21-9815-75de8696fd99"
      },
      "source": [
        "featureScores"
      ],
      "execution_count": 398,
      "outputs": [
        {
          "output_type": "execute_result",
          "data": {
            "text/html": [
              "<div>\n",
              "<style scoped>\n",
              "    .dataframe tbody tr th:only-of-type {\n",
              "        vertical-align: middle;\n",
              "    }\n",
              "\n",
              "    .dataframe tbody tr th {\n",
              "        vertical-align: top;\n",
              "    }\n",
              "\n",
              "    .dataframe thead th {\n",
              "        text-align: right;\n",
              "    }\n",
              "</style>\n",
              "<table border=\"1\" class=\"dataframe\">\n",
              "  <thead>\n",
              "    <tr style=\"text-align: right;\">\n",
              "      <th></th>\n",
              "      <th>Specs</th>\n",
              "      <th>Score</th>\n",
              "    </tr>\n",
              "  </thead>\n",
              "  <tbody>\n",
              "    <tr>\n",
              "      <th>0</th>\n",
              "      <td>Source.IP</td>\n",
              "      <td>3.717381</td>\n",
              "    </tr>\n",
              "    <tr>\n",
              "      <th>1</th>\n",
              "      <td>Source.Port</td>\n",
              "      <td>75.443928</td>\n",
              "    </tr>\n",
              "    <tr>\n",
              "      <th>2</th>\n",
              "      <td>Destination.IP</td>\n",
              "      <td>31.737510</td>\n",
              "    </tr>\n",
              "    <tr>\n",
              "      <th>3</th>\n",
              "      <td>Destination.Port</td>\n",
              "      <td>112.372103</td>\n",
              "    </tr>\n",
              "    <tr>\n",
              "      <th>4</th>\n",
              "      <td>Protocol</td>\n",
              "      <td>60.243414</td>\n",
              "    </tr>\n",
              "    <tr>\n",
              "      <th>...</th>\n",
              "      <td>...</td>\n",
              "      <td>...</td>\n",
              "    </tr>\n",
              "    <tr>\n",
              "      <th>78</th>\n",
              "      <td>Active.Min</td>\n",
              "      <td>25.007062</td>\n",
              "    </tr>\n",
              "    <tr>\n",
              "      <th>79</th>\n",
              "      <td>Idle.Mean</td>\n",
              "      <td>15.065311</td>\n",
              "    </tr>\n",
              "    <tr>\n",
              "      <th>80</th>\n",
              "      <td>Idle.Std</td>\n",
              "      <td>10.424493</td>\n",
              "    </tr>\n",
              "    <tr>\n",
              "      <th>81</th>\n",
              "      <td>Idle.Max</td>\n",
              "      <td>16.280284</td>\n",
              "    </tr>\n",
              "    <tr>\n",
              "      <th>82</th>\n",
              "      <td>Idle.Min</td>\n",
              "      <td>13.794595</td>\n",
              "    </tr>\n",
              "  </tbody>\n",
              "</table>\n",
              "<p>83 rows × 2 columns</p>\n",
              "</div>"
            ],
            "text/plain": [
              "               Specs       Score\n",
              "0          Source.IP    3.717381\n",
              "1        Source.Port   75.443928\n",
              "2     Destination.IP   31.737510\n",
              "3   Destination.Port  112.372103\n",
              "4           Protocol   60.243414\n",
              "..               ...         ...\n",
              "78        Active.Min   25.007062\n",
              "79         Idle.Mean   15.065311\n",
              "80          Idle.Std   10.424493\n",
              "81          Idle.Max   16.280284\n",
              "82          Idle.Min   13.794595\n",
              "\n",
              "[83 rows x 2 columns]"
            ]
          },
          "metadata": {
            "tags": []
          },
          "execution_count": 398
        }
      ]
    },
    {
      "cell_type": "code",
      "metadata": {
        "colab": {
          "base_uri": "https://localhost:8080/"
        },
        "id": "3VxkX-9sAdvb",
        "outputId": "6b790313-7ac6-4b72-c8a6-50d7e3de254d"
      },
      "source": [
        "print(featureScores.nlargest(15,'Score'))  #print 15 best features"
      ],
      "execution_count": 399,
      "outputs": [
        {
          "output_type": "stream",
          "text": [
            "                     Specs         Score\n",
            "5                Timestamp  18171.683898\n",
            "3         Destination.Port    112.372103\n",
            "1              Source.Port     75.443928\n",
            "77              Active.Max     67.871427\n",
            "4                 Protocol     60.243414\n",
            "76              Active.Std     50.482767\n",
            "75             Active.Mean     48.185440\n",
            "21           Flow.IAT.Mean     45.492261\n",
            "25           Fwd.IAT.Total     39.517956\n",
            "23            Flow.IAT.Max     38.815642\n",
            "26            Fwd.IAT.Mean     37.702217\n",
            "43       Min.Packet.Length     37.423610\n",
            "71  Init_Win_bytes_forward     36.716249\n",
            "6            Flow.Duration     35.611764\n",
            "28             Fwd.IAT.Max     35.079394\n"
          ],
          "name": "stdout"
        }
      ]
    },
    {
      "cell_type": "code",
      "metadata": {
        "id": "swzoLo_jAd0g"
      },
      "source": [
        "myl = featureScores.nlargest(15,'Score')['Specs']"
      ],
      "execution_count": 400,
      "outputs": []
    },
    {
      "cell_type": "code",
      "metadata": {
        "id": "0g7ZKYtEAd6u"
      },
      "source": [
        "X = real_df[myl]\n",
        "y = real_df['Family']"
      ],
      "execution_count": 401,
      "outputs": []
    },
    {
      "cell_type": "code",
      "metadata": {
        "id": "8t_u018mBPOt"
      },
      "source": [
        "from sklearn.model_selection import train_test_split\n",
        "X_train, X_test, y_train, y_test = train_test_split(X, y, test_size=0.20)"
      ],
      "execution_count": 402,
      "outputs": []
    },
    {
      "cell_type": "code",
      "metadata": {
        "colab": {
          "base_uri": "https://localhost:8080/"
        },
        "id": "j8h-6mOVBPXp",
        "outputId": "902173c5-f7a7-4801-df1d-dd2f839db871"
      },
      "source": [
        "from sklearn.tree import DecisionTreeClassifier\n",
        "classifier = DecisionTreeClassifier()\n",
        "classifier.fit(X_train, y_train)"
      ],
      "execution_count": 403,
      "outputs": [
        {
          "output_type": "execute_result",
          "data": {
            "text/plain": [
              "DecisionTreeClassifier(ccp_alpha=0.0, class_weight=None, criterion='gini',\n",
              "                       max_depth=None, max_features=None, max_leaf_nodes=None,\n",
              "                       min_impurity_decrease=0.0, min_impurity_split=None,\n",
              "                       min_samples_leaf=1, min_samples_split=2,\n",
              "                       min_weight_fraction_leaf=0.0, presort='deprecated',\n",
              "                       random_state=None, splitter='best')"
            ]
          },
          "metadata": {
            "tags": []
          },
          "execution_count": 403
        }
      ]
    },
    {
      "cell_type": "code",
      "metadata": {
        "id": "a1Gg13mBBPc5"
      },
      "source": [
        "y_pred = classifier.predict(X_test)"
      ],
      "execution_count": 404,
      "outputs": []
    },
    {
      "cell_type": "code",
      "metadata": {
        "colab": {
          "base_uri": "https://localhost:8080/"
        },
        "id": "sBVCqLh9BPfx",
        "outputId": "cfdacde6-0789-40b5-af0b-d7ac27fb8030"
      },
      "source": [
        "from sklearn.metrics import classification_report, confusion_matrix\n",
        "from sklearn.model_selection import cross_val_score\n",
        "print(confusion_matrix(y_test, y_pred))\n",
        "print(classification_report(y_test, y_pred))"
      ],
      "execution_count": 405,
      "outputs": [
        {
          "output_type": "stream",
          "text": [
            "[[5838  159    0 ...    0    0    0]\n",
            " [ 177  166   39 ...    0    0    0]\n",
            " [   0   39  374 ...    0    0    0]\n",
            " ...\n",
            " [   0    0    0 ...  590    0    0]\n",
            " [   0    0    0 ...    0  160    2]\n",
            " [   0    0    0 ...    0    1  449]]\n",
            "              precision    recall  f1-score   support\n",
            "\n",
            "         0.0       0.95      0.95      0.95      6115\n",
            "         1.0       0.27      0.27      0.27       621\n",
            "         2.0       0.63      0.64      0.64       582\n",
            "         3.0       0.31      0.32      0.32       607\n",
            "         4.0       0.52      0.50      0.51       595\n",
            "         5.0       0.29      0.30      0.30       600\n",
            "         6.0       0.38      0.41      0.39       593\n",
            "         7.0       0.50      0.46      0.48       635\n",
            "         8.0       0.34      0.34      0.34       607\n",
            "         9.0       0.50      0.49      0.50       585\n",
            "        10.0       0.55      0.57      0.56       616\n",
            "        11.0       0.66      0.64      0.65       600\n",
            "        12.0       0.52      0.54      0.53       600\n",
            "        13.0       0.66      0.64      0.65       652\n",
            "        14.0       0.61      0.65      0.63       579\n",
            "        15.0       0.51      0.52      0.51       599\n",
            "        16.0       0.37      0.36      0.37       607\n",
            "        17.0       0.40      0.41      0.40       574\n",
            "        18.0       0.44      0.43      0.43       607\n",
            "        19.0       0.81      0.82      0.82       589\n",
            "        20.0       0.61      0.59      0.60       616\n",
            "        21.0       1.00      1.00      1.00       581\n",
            "        22.0       0.51      0.48      0.49       614\n",
            "        23.0       0.37      0.36      0.37       590\n",
            "        24.0       0.46      0.47      0.47       611\n",
            "        25.0       0.24      0.27      0.26       560\n",
            "        26.0       0.38      0.37      0.37       584\n",
            "        27.0       0.28      0.30      0.29       593\n",
            "        28.0       0.41      0.40      0.40       624\n",
            "        29.0       0.32      0.31      0.32       601\n",
            "        30.0       0.34      0.33      0.33       586\n",
            "        31.0       0.21      0.23      0.22       604\n",
            "        32.0       0.32      0.30      0.31       577\n",
            "        33.0       0.12      0.13      0.12       366\n",
            "        34.0       0.74      0.75      0.75       580\n",
            "        35.0       0.70      0.70      0.70       604\n",
            "        36.0       0.25      0.24      0.25       605\n",
            "        37.0       0.84      0.84      0.84       562\n",
            "        38.0       0.41      0.42      0.41       617\n",
            "        39.0       1.00      1.00      1.00       590\n",
            "        40.0       1.00      1.00      1.00       590\n",
            "        41.0       0.30      0.28      0.29       581\n",
            "        42.0       0.72      0.71      0.71       635\n",
            "\n",
            "    accuracy                           0.59     31034\n",
            "   macro avg       0.51      0.50      0.51     31034\n",
            "weighted avg       0.59      0.59      0.59     31034\n",
            "\n"
          ],
          "name": "stdout"
        }
      ]
    },
    {
      "cell_type": "code",
      "metadata": {
        "colab": {
          "base_uri": "https://localhost:8080/"
        },
        "id": "gEdmJNKVBPjG",
        "outputId": "10efa233-d267-4e97-fd5e-3192d3db1c33"
      },
      "source": [
        "#Import scikit-learn metrics module for accuracy calculation\n",
        "from sklearn import metrics\n",
        "\n",
        "# Model Accuracy, how often is the classifier correct?\n",
        "print(\"Accuracy:\",metrics.accuracy_score(y_test, y_pred))\n",
        "print(\"precision:\",metrics.precision_score(y_test, y_pred,average='micro'))\n",
        "print(\"Recall:\",metrics.recall_score(y_test, y_pred,average='micro'))\n",
        "print(\"F1-Score:\",metrics.f1_score(y_test, y_pred,average='micro'))"
      ],
      "execution_count": 406,
      "outputs": [
        {
          "output_type": "stream",
          "text": [
            "Accuracy: 0.5870657988013147\n",
            "precision: 0.5870657988013147\n",
            "Recall: 0.5870657988013147\n",
            "F1-Score: 0.5870657988013147\n"
          ],
          "name": "stdout"
        }
      ]
    },
    {
      "cell_type": "code",
      "metadata": {
        "colab": {
          "base_uri": "https://localhost:8080/"
        },
        "id": "XiSgRqRIBPmS",
        "outputId": "c1c1bcc8-a74b-493a-f8ec-e301679ec237"
      },
      "source": [
        "from sklearn.model_selection import KFold\n",
        "from sklearn.metrics import accuracy_score, precision_score, recall_score, f1_score\n",
        "validation_accuracy = []\n",
        "validation_f1 =[]\n",
        "fold_and_validate = KFold(n_splits=10, shuffle=True, random_state=145)\n",
        "for train_set_indices, validation_set_indices in fold_and_validate.split(X_train):\n",
        "    cv_train_set = X_train.iloc[train_set_indices]\n",
        "    cv_train_target = y_train.iloc[train_set_indices]\n",
        "    \n",
        "    cv_xvalidation = X_train.iloc[validation_set_indices]\n",
        "    cv_y_true = y_train.iloc[validation_set_indices]\n",
        "    cv_y_predicted = classifier.predict(cv_xvalidation)\n",
        "    \n",
        "    cv_accuracy_score = accuracy_score(cv_y_true, cv_y_predicted)\n",
        "    cv_f1_score = f1_score(cv_y_true, cv_y_predicted,  average=\"weighted\")\n",
        "    validation_accuracy.append(cv_accuracy_score)\n",
        "    validation_f1.append(cv_f1_score)\n",
        "    \n",
        "print(\"Cross validation accuracies are: \", validation_accuracy)\n",
        "print(\"Cross validation f1 scores  are: \", validation_f1)"
      ],
      "execution_count": 407,
      "outputs": [
        {
          "output_type": "stream",
          "text": [
            "Cross validation accuracies are:  [0.9900918318028032, 0.9898501691638473, 0.9913806992105687, 0.990736265506686, 0.9904140486547447, 0.9920251329144514, 0.9912994441311528, 0.9919439297510674, 0.9895271086763877, 0.9912188834286635]\n",
            "Cross validation f1 scores  are:  [0.9901315177008129, 0.9898838710746118, 0.9914209898848462, 0.9907859163693786, 0.9904606220926877, 0.9920237993802855, 0.9913057434854621, 0.9919454355688053, 0.9895317144928283, 0.9912201700070387]\n"
          ],
          "name": "stdout"
        }
      ]
    },
    {
      "cell_type": "code",
      "metadata": {
        "id": "TfFNy8X9BPow"
      },
      "source": [
        "#Import Random Forest Model\n",
        "from sklearn.ensemble import RandomForestClassifier\n",
        "\n",
        "#Create a Gaussian Classifier\n",
        "clf=RandomForestClassifier(n_estimators=100)\n",
        "\n",
        "#Train the model using the training sets y_pred=clf.predict(X_test)\n",
        "clf.fit(X_train,y_train)\n",
        "\n",
        "y_pred=clf.predict(X_test)"
      ],
      "execution_count": 408,
      "outputs": []
    },
    {
      "cell_type": "code",
      "metadata": {
        "colab": {
          "base_uri": "https://localhost:8080/"
        },
        "id": "yoCKxDxwBPrW",
        "outputId": "1460a264-a6ba-41b6-b0f1-41163f87fbb0"
      },
      "source": [
        "from sklearn.metrics import classification_report, confusion_matrix\n",
        "from sklearn.metrics import multilabel_confusion_matrix\n",
        "#print(confusion_matrix(y_test, y_pred))\n",
        "print(classification_report(y_test, y_pred))"
      ],
      "execution_count": 409,
      "outputs": [
        {
          "output_type": "stream",
          "text": [
            "              precision    recall  f1-score   support\n",
            "\n",
            "         0.0       0.92      1.00      0.96      6115\n",
            "         1.0       0.40      0.18      0.25       621\n",
            "         2.0       0.65      0.70      0.68       582\n",
            "         3.0       0.34      0.36      0.35       607\n",
            "         4.0       0.57      0.58      0.57       595\n",
            "         5.0       0.33      0.28      0.31       600\n",
            "         6.0       0.42      0.40      0.41       593\n",
            "         7.0       0.51      0.53      0.52       635\n",
            "         8.0       0.39      0.42      0.40       607\n",
            "         9.0       0.66      0.50      0.57       585\n",
            "        10.0       0.51      0.64      0.57       616\n",
            "        11.0       0.68      0.74      0.71       600\n",
            "        12.0       0.54      0.48      0.51       600\n",
            "        13.0       0.66      0.65      0.65       652\n",
            "        14.0       0.56      0.60      0.58       579\n",
            "        15.0       0.50      0.43      0.47       599\n",
            "        16.0       0.41      0.37      0.39       607\n",
            "        17.0       0.46      0.46      0.46       574\n",
            "        18.0       0.47      0.45      0.46       607\n",
            "        19.0       0.81      0.89      0.85       589\n",
            "        20.0       0.66      0.76      0.71       616\n",
            "        21.0       0.96      0.98      0.97       581\n",
            "        22.0       0.49      0.47      0.48       614\n",
            "        23.0       0.39      0.37      0.38       590\n",
            "        24.0       0.48      0.54      0.51       611\n",
            "        25.0       0.28      0.27      0.28       560\n",
            "        26.0       0.38      0.36      0.37       584\n",
            "        27.0       0.33      0.32      0.32       593\n",
            "        28.0       0.40      0.40      0.40       624\n",
            "        29.0       0.32      0.25      0.28       601\n",
            "        30.0       0.33      0.35      0.34       586\n",
            "        31.0       0.20      0.18      0.19       604\n",
            "        32.0       0.32      0.35      0.33       577\n",
            "        33.0       0.13      0.10      0.11       366\n",
            "        34.0       0.64      0.68      0.66       580\n",
            "        35.0       0.63      0.52      0.57       604\n",
            "        36.0       0.27      0.31      0.29       605\n",
            "        37.0       0.80      0.68      0.74       562\n",
            "        38.0       0.39      0.35      0.37       617\n",
            "        39.0       0.88      0.93      0.90       590\n",
            "        40.0       0.95      0.79      0.87       590\n",
            "        41.0       0.34      0.34      0.34       581\n",
            "        42.0       0.62      0.75      0.68       635\n",
            "\n",
            "    accuracy                           0.60     31034\n",
            "   macro avg       0.51      0.51      0.51     31034\n",
            "weighted avg       0.59      0.60      0.59     31034\n",
            "\n"
          ],
          "name": "stdout"
        }
      ]
    },
    {
      "cell_type": "code",
      "metadata": {
        "colab": {
          "base_uri": "https://localhost:8080/"
        },
        "id": "PZPg0Y-6BPt5",
        "outputId": "f1e637f5-8f8d-4922-ccd3-47829f4421e4"
      },
      "source": [
        "#Import scikit-learn metrics module for accuracy calculation\n",
        "from sklearn import metrics\n",
        "\n",
        "# Model Accuracy, how often is the classifier correct?\n",
        "print(\"Accuracy:\",metrics.accuracy_score(y_test, y_pred))\n",
        "print(\"precision:\",metrics.precision_score(y_test, y_pred,average='micro'))\n",
        "print(\"Recall:\",metrics.recall_score(y_test, y_pred,average='micro'))\n",
        "print(\"F1-Score:\",metrics.f1_score(y_test, y_pred,average='micro'))"
      ],
      "execution_count": 410,
      "outputs": [
        {
          "output_type": "stream",
          "text": [
            "Accuracy: 0.5955403750725011\n",
            "precision: 0.5955403750725011\n",
            "Recall: 0.5955403750725011\n",
            "F1-Score: 0.5955403750725011\n"
          ],
          "name": "stdout"
        }
      ]
    },
    {
      "cell_type": "code",
      "metadata": {
        "colab": {
          "base_uri": "https://localhost:8080/"
        },
        "id": "why8DUnSBPwu",
        "outputId": "da55389c-4bfd-4fcf-9af7-25265adbc395"
      },
      "source": [
        "from sklearn.model_selection import KFold\n",
        "from sklearn.metrics import accuracy_score, precision_score, recall_score, f1_score\n",
        "validation_accuracy = []\n",
        "validation_f1 =[]\n",
        "fold_and_validate = KFold(n_splits=10, shuffle=True, random_state=145)\n",
        "for train_set_indices, validation_set_indices in fold_and_validate.split(X_train):\n",
        "    cv_train_set = X_train.iloc[train_set_indices]\n",
        "    cv_train_target = y_train.iloc[train_set_indices]\n",
        "    \n",
        "    cv_xvalidation = X_train.iloc[validation_set_indices]\n",
        "    cv_y_true = y_train.iloc[validation_set_indices]\n",
        "    cv_y_predicted = clf.predict(cv_xvalidation)\n",
        "    \n",
        "    cv_accuracy_score = accuracy_score(cv_y_true, cv_y_predicted)\n",
        "    cv_f1_score = f1_score(cv_y_true, cv_y_predicted,  average=\"weighted\")\n",
        "    validation_accuracy.append(cv_accuracy_score)\n",
        "    validation_f1.append(cv_f1_score)\n",
        "    \n",
        "print(\"Cross validation accuracies are: \", validation_accuracy)\n",
        "print(\"Cross validation f1 scores  are: \", validation_f1)"
      ],
      "execution_count": 411,
      "outputs": [
        {
          "output_type": "stream",
          "text": [
            "Cross validation accuracies are:  [0.9908973739326566, 0.9898501691638473, 0.9919445787014661, 0.9910584823586274, 0.990977928145642, 0.9918640244884808, 0.9904132764037702, 0.9903327157012809, 0.9904938371062596, 0.9905743978087489]\n",
            "Cross validation f1 scores  are:  [0.9909035049757844, 0.9898621712506622, 0.9919209890703524, 0.9910267551103995, 0.9910036684745337, 0.9918515918296953, 0.9904193659405442, 0.9903064343444384, 0.9904960534793282, 0.9905861792912253]\n"
          ],
          "name": "stdout"
        }
      ]
    },
    {
      "cell_type": "code",
      "metadata": {
        "id": "23LwtUh1CsXL"
      },
      "source": [
        "from sklearn.neighbors import KNeighborsClassifier\n",
        "\n",
        "#Create KNN Classifier\n",
        "knn = KNeighborsClassifier(n_neighbors=10)\n",
        "\n",
        "#Train the model using the training sets\n",
        "knn.fit(X_train, y_train)\n",
        "\n",
        "#Predict the response for test dataset\n",
        "y_pred = knn.predict(X_test)"
      ],
      "execution_count": 412,
      "outputs": []
    },
    {
      "cell_type": "code",
      "metadata": {
        "colab": {
          "base_uri": "https://localhost:8080/"
        },
        "id": "b36xmLpqCsfS",
        "outputId": "d5498c6f-2be3-4956-b5cc-bff6d3f00138"
      },
      "source": [
        "from sklearn.metrics import classification_report, confusion_matrix\n",
        "print(confusion_matrix(y_test, y_pred))\n",
        "print(classification_report(y_test, y_pred))"
      ],
      "execution_count": 413,
      "outputs": [
        {
          "output_type": "stream",
          "text": [
            "[[6111    4    0 ...    0    0    0]\n",
            " [ 198  160   40 ...    0    0    0]\n",
            " [   0   17  397 ...    0    0    0]\n",
            " ...\n",
            " [   0    0    0 ...  590    0    0]\n",
            " [   0    0    0 ...    0  200    2]\n",
            " [   0    0    0 ...    0    0  377]]\n",
            "              precision    recall  f1-score   support\n",
            "\n",
            "         0.0       0.95      1.00      0.97      6115\n",
            "         1.0       0.50      0.26      0.34       621\n",
            "         2.0       0.60      0.68      0.64       582\n",
            "         3.0       0.30      0.35      0.32       607\n",
            "         4.0       0.58      0.52      0.55       595\n",
            "         5.0       0.37      0.32      0.34       600\n",
            "         6.0       0.34      0.35      0.35       593\n",
            "         7.0       0.46      0.53      0.49       635\n",
            "         8.0       0.39      0.27      0.32       607\n",
            "         9.0       0.62      0.51      0.56       585\n",
            "        10.0       0.54      0.64      0.59       616\n",
            "        11.0       0.69      0.82      0.75       600\n",
            "        12.0       0.59      0.50      0.54       600\n",
            "        13.0       0.72      0.68      0.70       652\n",
            "        14.0       0.67      0.70      0.68       579\n",
            "        15.0       0.55      0.58      0.56       599\n",
            "        16.0       0.39      0.34      0.36       607\n",
            "        17.0       0.46      0.48      0.47       574\n",
            "        18.0       0.46      0.46      0.46       607\n",
            "        19.0       0.73      0.82      0.77       589\n",
            "        20.0       0.66      0.59      0.62       616\n",
            "        21.0       1.00      1.00      1.00       581\n",
            "        22.0       0.53      0.57      0.55       614\n",
            "        23.0       0.35      0.30      0.32       590\n",
            "        24.0       0.51      0.59      0.55       611\n",
            "        25.0       0.29      0.27      0.28       560\n",
            "        26.0       0.44      0.49      0.46       584\n",
            "        27.0       0.32      0.27      0.30       593\n",
            "        28.0       0.45      0.48      0.46       624\n",
            "        29.0       0.36      0.35      0.36       601\n",
            "        30.0       0.39      0.37      0.38       586\n",
            "        31.0       0.25      0.25      0.25       604\n",
            "        32.0       0.35      0.41      0.38       577\n",
            "        33.0       0.16      0.09      0.12       366\n",
            "        34.0       0.62      0.86      0.72       580\n",
            "        35.0       0.87      0.59      0.70       604\n",
            "        36.0       0.29      0.33      0.31       605\n",
            "        37.0       0.88      0.94      0.91       562\n",
            "        38.0       0.43      0.50      0.46       617\n",
            "        39.0       1.00      1.00      1.00       590\n",
            "        40.0       1.00      1.00      1.00       590\n",
            "        41.0       0.39      0.34      0.37       581\n",
            "        42.0       0.76      0.59      0.67       635\n",
            "\n",
            "    accuracy                           0.62     31034\n",
            "   macro avg       0.54      0.53      0.53     31034\n",
            "weighted avg       0.61      0.62      0.61     31034\n",
            "\n"
          ],
          "name": "stdout"
        }
      ]
    },
    {
      "cell_type": "code",
      "metadata": {
        "colab": {
          "base_uri": "https://localhost:8080/"
        },
        "id": "sNnylceuCskH",
        "outputId": "477fc123-af7b-4a2b-fe70-8ec953735ada"
      },
      "source": [
        "#Import scikit-learn metrics module for accuracy calculation\n",
        "from sklearn import metrics\n",
        "\n",
        "# Model Accuracy, how often is the classifier correct?\n",
        "print(\"Accuracy:\",metrics.accuracy_score(y_test, y_pred))\n",
        "print(\"precision:\",metrics.precision_score(y_test, y_pred,average='micro'))\n",
        "print(\"Recall:\",metrics.recall_score(y_test, y_pred,average='micro'))\n",
        "print(\"F1-Score:\",metrics.f1_score(y_test, y_pred,average='micro'))"
      ],
      "execution_count": 414,
      "outputs": [
        {
          "output_type": "stream",
          "text": [
            "Accuracy: 0.6200296449055874\n",
            "precision: 0.6200296449055874\n",
            "Recall: 0.6200296449055874\n",
            "F1-Score: 0.6200296449055874\n"
          ],
          "name": "stdout"
        }
      ]
    },
    {
      "cell_type": "code",
      "metadata": {
        "colab": {
          "base_uri": "https://localhost:8080/"
        },
        "id": "cpV3uwiLCsn2",
        "outputId": "692e5b00-2c54-4bdf-848d-9e23e74253fc"
      },
      "source": [
        "from sklearn.model_selection import KFold\n",
        "from sklearn.metrics import accuracy_score, precision_score, recall_score, f1_score\n",
        "validation_accuracy = []\n",
        "validation_f1 =[]\n",
        "fold_and_validate = KFold(n_splits=10, shuffle=True, random_state=145)\n",
        "for train_set_indices, validation_set_indices in fold_and_validate.split(X_train):\n",
        "    cv_train_set = X_train.iloc[train_set_indices]\n",
        "    cv_train_target = y_train.iloc[train_set_indices]\n",
        "    \n",
        "    cv_xvalidation = X_train.iloc[validation_set_indices]\n",
        "    cv_y_true = y_train.iloc[validation_set_indices]\n",
        "    cv_y_predicted = knn.predict(cv_xvalidation)\n",
        "    \n",
        "    cv_accuracy_score = accuracy_score(cv_y_true, cv_y_predicted)\n",
        "    cv_f1_score = f1_score(cv_y_true, cv_y_predicted,  average=\"weighted\")\n",
        "    validation_accuracy.append(cv_accuracy_score)\n",
        "    validation_f1.append(cv_f1_score)\n",
        "    \n",
        "print(\"Cross validation accuracies are: \", validation_accuracy)\n",
        "print(\"Cross validation f1 scores  are: \", validation_f1)"
      ],
      "execution_count": 415,
      "outputs": [
        {
          "output_type": "stream",
          "text": [
            "Cross validation accuracies are:  [0.6921217979700338, 0.6915579184791365, 0.6878524246818108, 0.6980022555179636, 0.7016271951023039, 0.6962300628322862, 0.6960444695077741, 0.704181100459196, 0.6942721340530089, 0.6924997985982437]\n",
            "Cross validation f1 scores  are:  [0.6873353581858676, 0.687196878656821, 0.6827382084098814, 0.6935343649416014, 0.6968393114289007, 0.6916135799800591, 0.6906018041799692, 0.6993439912898589, 0.688820691193406, 0.6872484174478433]\n"
          ],
          "name": "stdout"
        }
      ]
    },
    {
      "cell_type": "code",
      "metadata": {
        "id": "pv8GMkhzCsrK"
      },
      "source": [
        "#Import Gaussian Naive Bayes model\n",
        "from sklearn.naive_bayes import GaussianNB\n",
        "\n",
        "#Create a Gaussian Classifier\n",
        "gnb = GaussianNB()\n",
        "\n",
        "#Train the model using the training sets\n",
        "gnb.fit(X_train, y_train)\n",
        "\n",
        "#Predict the response for test dataset\n",
        "y_pred = gnb.predict(X_test)"
      ],
      "execution_count": 416,
      "outputs": []
    },
    {
      "cell_type": "code",
      "metadata": {
        "colab": {
          "base_uri": "https://localhost:8080/"
        },
        "id": "lbhcH7yzCsuv",
        "outputId": "89481aaa-6bad-4d10-a6c9-0708ba9ac27d"
      },
      "source": [
        "from sklearn.metrics import classification_report, confusion_matrix\n",
        "print(confusion_matrix(y_test, y_pred))\n",
        "print(classification_report(y_test, y_pred))"
      ],
      "execution_count": 417,
      "outputs": [
        {
          "output_type": "stream",
          "text": [
            "[[6115    0    0 ...    0    0    0]\n",
            " [ 225    0  118 ...    0    0    0]\n",
            " [   0    0  582 ...    0    0    0]\n",
            " ...\n",
            " [ 590    0    0 ...    0    0    0]\n",
            " [   0    0    0 ...    0    0    2]\n",
            " [   0    0    0 ...    0    0  260]]\n",
            "              precision    recall  f1-score   support\n",
            "\n",
            "         0.0       0.83      1.00      0.91      6115\n",
            "         1.0       0.00      0.00      0.00       621\n",
            "         2.0       0.47      1.00      0.64       582\n",
            "         3.0       0.00      0.00      0.00       607\n",
            "         4.0       0.00      0.00      0.00       595\n",
            "         5.0       0.00      0.00      0.00       600\n",
            "         6.0       0.00      0.00      0.00       593\n",
            "         7.0       0.22      1.00      0.36       635\n",
            "         8.0       0.00      0.00      0.00       607\n",
            "         9.0       0.00      0.00      0.00       585\n",
            "        10.0       0.40      1.00      0.57       616\n",
            "        11.0       0.64      0.52      0.58       600\n",
            "        12.0       0.37      0.35      0.36       600\n",
            "        13.0       0.35      0.72      0.47       652\n",
            "        14.0       0.84      0.53      0.65       579\n",
            "        15.0       0.00      0.00      0.00       599\n",
            "        16.0       0.00      0.00      0.00       607\n",
            "        17.0       0.22      0.64      0.33       574\n",
            "        18.0       0.00      0.00      0.00       607\n",
            "        19.0       0.55      0.78      0.64       589\n",
            "        20.0       0.40      0.51      0.45       616\n",
            "        21.0       1.00      1.00      1.00       581\n",
            "        22.0       0.00      0.00      0.00       614\n",
            "        23.0       0.00      0.00      0.00       590\n",
            "        24.0       0.37      0.89      0.52       611\n",
            "        25.0       0.00      0.00      0.00       560\n",
            "        26.0       0.44      0.74      0.55       584\n",
            "        27.0       0.00      0.00      0.00       593\n",
            "        28.0       0.00      0.00      0.00       624\n",
            "        29.0       0.00      0.00      0.00       601\n",
            "        30.0       0.00      0.00      0.00       586\n",
            "        31.0       0.00      0.00      0.00       604\n",
            "        32.0       0.33      1.00      0.50       577\n",
            "        33.0       0.00      0.00      0.00       366\n",
            "        34.0       0.25      0.69      0.37       580\n",
            "        35.0       0.00      0.00      0.00       604\n",
            "        36.0       0.22      1.00      0.37       605\n",
            "        37.0       0.00      0.00      0.00       562\n",
            "        38.0       0.00      0.00      0.00       617\n",
            "        39.0       0.00      0.00      0.00       590\n",
            "        40.0       0.00      0.00      0.00       590\n",
            "        41.0       0.00      0.00      0.00       581\n",
            "        42.0       0.46      0.41      0.43       635\n",
            "\n",
            "    accuracy                           0.44     31034\n",
            "   macro avg       0.19      0.32      0.23     31034\n",
            "weighted avg       0.31      0.44      0.35     31034\n",
            "\n"
          ],
          "name": "stdout"
        },
        {
          "output_type": "stream",
          "text": [
            "/usr/local/lib/python3.7/dist-packages/sklearn/metrics/_classification.py:1272: UndefinedMetricWarning: Precision and F-score are ill-defined and being set to 0.0 in labels with no predicted samples. Use `zero_division` parameter to control this behavior.\n",
            "  _warn_prf(average, modifier, msg_start, len(result))\n"
          ],
          "name": "stderr"
        }
      ]
    },
    {
      "cell_type": "code",
      "metadata": {
        "colab": {
          "base_uri": "https://localhost:8080/"
        },
        "id": "3wglCvG2CsyX",
        "outputId": "d7d1dd03-5351-4959-f2e2-6c1306b58234"
      },
      "source": [
        "#Import scikit-learn metrics module for accuracy calculation\n",
        "from sklearn import metrics\n",
        "\n",
        "# Model Accuracy, how often is the classifier correct?\n",
        "print(\"Accuracy:\",metrics.accuracy_score(y_test, y_pred))\n",
        "print(\"precision:\",metrics.precision_score(y_test, y_pred,average='micro'))\n",
        "print(\"Recall:\",metrics.recall_score(y_test, y_pred,average='micro'))\n",
        "print(\"F1-Score:\",metrics.f1_score(y_test, y_pred,average='micro'))"
      ],
      "execution_count": 418,
      "outputs": [
        {
          "output_type": "stream",
          "text": [
            "Accuracy: 0.4442224656827995\n",
            "precision: 0.4442224656827995\n",
            "Recall: 0.4442224656827995\n",
            "F1-Score: 0.44422246568279944\n"
          ],
          "name": "stdout"
        }
      ]
    },
    {
      "cell_type": "code",
      "metadata": {
        "colab": {
          "base_uri": "https://localhost:8080/"
        },
        "id": "FDyaLeIPCs1D",
        "outputId": "62af3c6d-e765-4336-fcb2-b37d7b6451d4"
      },
      "source": [
        "from sklearn.model_selection import KFold\n",
        "from sklearn.metrics import accuracy_score, precision_score, recall_score, f1_score\n",
        "validation_accuracy = []\n",
        "validation_f1 =[]\n",
        "fold_and_validate = KFold(n_splits=10, shuffle=True, random_state=145)\n",
        "for train_set_indices, validation_set_indices in fold_and_validate.split(X_train):\n",
        "    cv_train_set = X_train.iloc[train_set_indices]\n",
        "    cv_train_target = y_train.iloc[train_set_indices]\n",
        "    \n",
        "    cv_xvalidation = X_train.iloc[validation_set_indices]\n",
        "    cv_y_true = y_train.iloc[validation_set_indices]\n",
        "    cv_y_predicted = gnb.predict(cv_xvalidation)\n",
        "    \n",
        "    cv_accuracy_score = accuracy_score(cv_y_true, cv_y_predicted)\n",
        "    cv_f1_score = f1_score(cv_y_true, cv_y_predicted,  average=\"weighted\")\n",
        "    validation_accuracy.append(cv_accuracy_score)\n",
        "    validation_f1.append(cv_f1_score)\n",
        "    \n",
        "print(\"Cross validation accuracies are: \", validation_accuracy)\n",
        "print(\"Cross validation f1 scores  are: \", validation_f1)"
      ],
      "execution_count": 419,
      "outputs": [
        {
          "output_type": "stream",
          "text": [
            "Cross validation accuracies are:  [0.43861768970517157, 0.4483647494763976, 0.4360399548896407, 0.43531496697277267, 0.44288706299339453, 0.44409537618817463, 0.44268106017884473, 0.44324498509627, 0.43551115765729476, 0.4371223717070813]\n",
            "Cross validation f1 scores  are:  [0.34479399546567996, 0.35228169462390296, 0.3382266048375607, 0.34107070567873027, 0.3479497639670539, 0.35072284955262156, 0.34702132266349894, 0.3481001846712641, 0.3403745067814878, 0.3427714383636738]\n"
          ],
          "name": "stdout"
        }
      ]
    },
    {
      "cell_type": "code",
      "metadata": {
        "id": "dI9Tvk2pDVIN"
      },
      "source": [
        "from sklearn.ensemble import GradientBoostingClassifier\n",
        "from sklearn import model_selection\n",
        "\n",
        "model_sgb = GradientBoostingClassifier(n_estimators=100, random_state=10)\n",
        "model_sgb.fit(X_train,y_train)\n",
        "y_pred = model_sgb.predict(X_test)"
      ],
      "execution_count": 420,
      "outputs": []
    },
    {
      "cell_type": "code",
      "metadata": {
        "colab": {
          "base_uri": "https://localhost:8080/"
        },
        "id": "fmOnmPt0DVMn",
        "outputId": "aab81c6d-7741-4c84-a558-812259a23701"
      },
      "source": [
        "from sklearn.metrics import classification_report, confusion_matrix\n",
        "print(confusion_matrix(y_test, y_pred))\n",
        "print(classification_report(y_test, y_pred))"
      ],
      "execution_count": 421,
      "outputs": [
        {
          "output_type": "stream",
          "text": [
            "[[6114    1    0 ...    0    0    0]\n",
            " [ 224   22   44 ...    0    0    0]\n",
            " [   0    0  390 ...    0    0    0]\n",
            " ...\n",
            " [   0    0    0 ...  590    0    0]\n",
            " [   0    0    0 ...    0  294    0]\n",
            " [   0    0    0 ...    0    0  431]]\n",
            "              precision    recall  f1-score   support\n",
            "\n",
            "         0.0       0.95      1.00      0.97      6115\n",
            "         1.0       0.47      0.04      0.07       621\n",
            "         2.0       0.59      0.67      0.63       582\n",
            "         3.0       0.38      0.14      0.20       607\n",
            "         4.0       0.54      0.53      0.54       595\n",
            "         5.0       0.61      0.14      0.23       600\n",
            "         6.0       0.39      0.64      0.48       593\n",
            "         7.0       0.47      0.80      0.59       635\n",
            "         8.0       0.37      0.30      0.33       607\n",
            "         9.0       0.68      0.47      0.56       585\n",
            "        10.0       0.49      0.86      0.62       616\n",
            "        11.0       0.63      0.92      0.75       600\n",
            "        12.0       0.67      0.26      0.38       600\n",
            "        13.0       0.72      0.70      0.71       652\n",
            "        14.0       0.80      0.55      0.65       579\n",
            "        15.0       0.50      0.62      0.55       599\n",
            "        16.0       0.38      0.32      0.35       607\n",
            "        17.0       0.42      0.45      0.43       574\n",
            "        18.0       0.45      0.45      0.45       607\n",
            "        19.0       0.81      0.84      0.83       589\n",
            "        20.0       0.59      0.77      0.67       616\n",
            "        21.0       1.00      1.00      1.00       581\n",
            "        22.0       0.59      0.55      0.57       614\n",
            "        23.0       0.42      0.19      0.26       590\n",
            "        24.0       0.41      0.82      0.54       611\n",
            "        25.0       0.37      0.04      0.07       560\n",
            "        26.0       0.46      0.47      0.47       584\n",
            "        27.0       0.41      0.07      0.12       593\n",
            "        28.0       0.44      0.46      0.45       624\n",
            "        29.0       0.67      0.06      0.12       601\n",
            "        30.0       0.41      0.31      0.36       586\n",
            "        31.0       0.33      0.10      0.15       604\n",
            "        32.0       0.33      0.92      0.49       577\n",
            "        33.0       0.07      0.01      0.01       366\n",
            "        34.0       0.70      0.83      0.76       580\n",
            "        35.0       0.97      0.56      0.71       604\n",
            "        36.0       0.26      0.57      0.36       605\n",
            "        37.0       0.80      0.99      0.89       562\n",
            "        38.0       0.48      0.47      0.48       617\n",
            "        39.0       1.00      1.00      1.00       590\n",
            "        40.0       1.00      1.00      1.00       590\n",
            "        41.0       0.28      0.51      0.36       581\n",
            "        42.0       0.75      0.68      0.71       635\n",
            "\n",
            "    accuracy                           0.62     31034\n",
            "   macro avg       0.56      0.54      0.51     31034\n",
            "weighted avg       0.63      0.62      0.59     31034\n",
            "\n"
          ],
          "name": "stdout"
        }
      ]
    },
    {
      "cell_type": "code",
      "metadata": {
        "colab": {
          "base_uri": "https://localhost:8080/"
        },
        "id": "RipwvjeLDVPS",
        "outputId": "a072ce0b-d217-46ee-dff0-ca29467992ec"
      },
      "source": [
        "#Import scikit-learn metrics module for accuracy calculation\n",
        "from sklearn import metrics\n",
        "\n",
        "# Model Accuracy, how often is the classifier correct?\n",
        "print(\"Accuracy:\",metrics.accuracy_score(y_test, y_pred))\n",
        "print(\"precision:\",metrics.precision_score(y_test, y_pred,average='micro'))\n",
        "print(\"Recall:\",metrics.recall_score(y_test, y_pred,average='micro'))\n",
        "print(\"F1-Score:\",metrics.f1_score(y_test, y_pred,average='micro'))"
      ],
      "execution_count": 422,
      "outputs": [
        {
          "output_type": "stream",
          "text": [
            "Accuracy: 0.6225107946123606\n",
            "precision: 0.6225107946123606\n",
            "Recall: 0.6225107946123606\n",
            "F1-Score: 0.6225107946123606\n"
          ],
          "name": "stdout"
        }
      ]
    },
    {
      "cell_type": "code",
      "metadata": {
        "colab": {
          "base_uri": "https://localhost:8080/"
        },
        "id": "QSl7fRP_DVR9",
        "outputId": "14cd73f4-84ba-451b-a8ee-9f8dff075750"
      },
      "source": [
        "from sklearn.model_selection import KFold\n",
        "validation_accuracy = []\n",
        "validation_f1 =[]\n",
        "fold_and_validate = KFold(n_splits=10, shuffle=True, random_state=145)\n",
        "for train_set_indices, validation_set_indices in fold_and_validate.split(X_train):\n",
        "    cv_train_set = X_train.iloc[train_set_indices]\n",
        "    cv_train_target = y_train.iloc[train_set_indices]\n",
        "    \n",
        "    cv_xvalidation = X_train.iloc[validation_set_indices]\n",
        "    cv_y_true = y_train.iloc[validation_set_indices]\n",
        "    cv_y_predicted = model_sgb.predict(cv_xvalidation)\n",
        "    \n",
        "    cv_accuracy_score = accuracy_score(cv_y_true, cv_y_predicted)\n",
        "    cv_f1_score = f1_score(cv_y_true, cv_y_predicted,  average=\"weighted\")\n",
        "    validation_accuracy.append(cv_accuracy_score)\n",
        "    validation_f1.append(cv_f1_score)\n",
        "    \n",
        "print(\"Cross validation accuracies are: \", validation_accuracy)\n",
        "print(\"Cross validation f1 scores  are: \", validation_f1)"
      ],
      "execution_count": 423,
      "outputs": [
        {
          "output_type": "stream",
          "text": [
            "Cross validation accuracies are:  [0.6472531013371999, 0.6506363782825841, 0.6493475108748188, 0.652730787820203, 0.6554696310617045, 0.652730787820203, 0.6510110368162411, 0.6575364537178764, 0.6489970192540079, 0.6537501007008781]\n",
            "Cross validation f1 scores  are:  [0.6221055903764463, 0.6247708327942855, 0.6212451274499059, 0.628735083756193, 0.6298108551258464, 0.6267796334864244, 0.6238797869142584, 0.6327232429643704, 0.6229955202857603, 0.6275491904752766]\n"
          ],
          "name": "stdout"
        }
      ]
    },
    {
      "cell_type": "code",
      "metadata": {
        "id": "Y7Ct5boF2LGx"
      },
      "source": [
        ""
      ],
      "execution_count": 423,
      "outputs": []
    }
  ]
}